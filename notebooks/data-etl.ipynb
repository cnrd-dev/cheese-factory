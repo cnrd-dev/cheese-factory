{
 "cells": [
  {
   "cell_type": "markdown",
   "source": [
    "# Data ETL for analysis"
   ],
   "metadata": {}
  },
  {
   "cell_type": "markdown",
   "source": [
    "## Overview\r\n",
    "- Read compressed CSV files\r\n",
    "- Remove bad quality data\r\n",
    "- Resample data\r\n",
    "- Save raw and resampled data to DB"
   ],
   "metadata": {}
  },
  {
   "cell_type": "code",
   "execution_count": null,
   "source": [
    "# import libraries\r\n",
    "import os\r\n",
    "import math\r\n",
    "import pandas as pd\r\n",
    "from sqlalchemy import create_engine\r\n",
    "import seaborn as sns\r\n",
    "\r\n",
    "# config for graphs\r\n",
    "%matplotlib inline\r\n",
    "sns.set(rc={\"figure.figsize\": (26, 10)})"
   ],
   "outputs": [],
   "metadata": {}
  },
  {
   "cell_type": "markdown",
   "source": [
    "# Sensor descriptions\r\n",
    "\r\n",
    "A description of the various sensors are located in the `sensors_sensor_202107282041.csv`. It includes:\r\n",
    "- `sensor_id` to match with the daily data files.\r\n",
    "- `sensor_type` and `sensor_uom` (unit of measure).\r\n",
    "- `sensor_ucl` and `sensor_lcl` which are the upper and lower control limits used for alerts.\r\n",
    "- `sensor_uucl` and `sensor_llcl` which are the upper upper and lower lower control limits used for alarms."
   ],
   "metadata": {}
  },
  {
   "cell_type": "code",
   "execution_count": null,
   "source": [
    "# get sensor meta data\r\n",
    "df_meta = pd.read_csv(\"../data/sensors_sensor_202107282041.csv\", parse_dates=True, index_col=\"sensor_id\")\r\n",
    "df_meta.head(15)"
   ],
   "outputs": [],
   "metadata": {}
  },
  {
   "cell_type": "code",
   "execution_count": null,
   "source": [
    "df_meta.columns"
   ],
   "outputs": [],
   "metadata": {}
  },
  {
   "cell_type": "code",
   "execution_count": null,
   "source": [
    "# keep only the required columns\r\n",
    "df_meta = df_meta[['sensor_name', 'sensor_type', 'sensor_ucl',\r\n",
    "       'sensor_lcl', 'sensor_llcl', 'sensor_uucl', 'sensor_uom']]\r\n",
    "df_meta.head(13)"
   ],
   "outputs": [],
   "metadata": {}
  },
  {
   "cell_type": "code",
   "execution_count": null,
   "source": [
    "# keep only the sensors of interest\r\n",
    "list_of_sensors = [30, 36, 29, 35, 31]\r\n",
    "df_meta = df_meta[df_meta.index.isin(list_of_sensors)]\r\n",
    "df_meta.head()"
   ],
   "outputs": [],
   "metadata": {}
  },
  {
   "cell_type": "code",
   "execution_count": null,
   "source": [
    "# add a short name for the sensors\r\n",
    "df_meta[\"sensor_short_name\"] = [\"WIP_temp\", \"DP_temp\", \"Ext_temp\", \"WIP_current\", \"DP_current\"]\r\n",
    "df_meta.head()"
   ],
   "outputs": [],
   "metadata": {}
  },
  {
   "cell_type": "markdown",
   "source": [
    "# Sensor data\r\n",
    "\r\n",
    "Sensor data is stored in compressed CSV files and each files contains the data for the specific date as per the file name. The file contains three columns: \r\n",
    "- `timestamp`: the date and time the sensor readings were taken.\r\n",
    "- `value`: the raw sensor reading in the unit of measure as per the sensor description file.\r\n",
    "- `sensor_id_id`: the integer ID of the sensor to match with the sensor description file."
   ],
   "metadata": {}
  },
  {
   "cell_type": "markdown",
   "source": [
    "## Reading data"
   ],
   "metadata": {}
  },
  {
   "cell_type": "code",
   "execution_count": null,
   "source": [
    "# get list of files\r\n",
    "local_path = \"../data/raw/\"\r\n",
    "local_files = os.listdir(local_path)\r\n",
    "print(local_files[:5])"
   ],
   "outputs": [],
   "metadata": {}
  },
  {
   "cell_type": "code",
   "execution_count": null,
   "source": [
    "# read all data files into one dataframe\r\n",
    "list_of_dfs = []\r\n",
    "\r\n",
    "for local_file in local_files:\r\n",
    "    local_file_path = f\"{local_path}/{local_file}\"\r\n",
    "    df_data = pd.read_csv(local_file_path, compression=\"gzip\", parse_dates=True)\r\n",
    "    list_of_dfs.append(df_data)\r\n",
    "\r\n",
    "df = pd.concat(list_of_dfs, ignore_index=True)\r\n",
    "df.head()"
   ],
   "outputs": [],
   "metadata": {}
  },
  {
   "cell_type": "code",
   "execution_count": null,
   "source": [
    "df.info()"
   ],
   "outputs": [],
   "metadata": {}
  },
  {
   "cell_type": "code",
   "execution_count": null,
   "source": [
    "# correct timestamp type\r\n",
    "df.timestamp = df.timestamp.astype(\"datetime64[ns]\")"
   ],
   "outputs": [],
   "metadata": {}
  },
  {
   "cell_type": "code",
   "execution_count": null,
   "source": [
    "# list unique sensor ids\r\n",
    "df.sensor_id_id.unique()"
   ],
   "outputs": [],
   "metadata": {}
  },
  {
   "cell_type": "code",
   "execution_count": null,
   "source": [
    "# keep only data linked to our sensors of interest\r\n",
    "df = df[df.sensor_id_id.isin(list_of_sensors)]\r\n",
    "df.head()"
   ],
   "outputs": [],
   "metadata": {}
  },
  {
   "cell_type": "markdown",
   "source": [
    "## Bad quality data\r\n",
    "\r\n",
    "The following criteria is used to filter bad quality data, as per the real-time monitoring system:\r\n",
    "- The value of `-99` is assigned to any sensor `value` which was bad quality or not available.\r\n",
    "- The value of `-127` indicates bad quality data for some of the temperature sensors.\r\n",
    "- The values of `-327` and `327` indicates the bad quality data that is at the extreme limits of the device.\r\n",
    "\r\n",
    "Process knowledge is key to ensure good quality data is not filtered out. In this application, temperatures are normally just above zero degrees Celcius and thus values of `-99` or `-127` are not near normal ranges."
   ],
   "metadata": {}
  },
  {
   "cell_type": "code",
   "execution_count": null,
   "source": [
    "# describe some basic stats in the data\r\n",
    "df.pivot(index=\"timestamp\", values=\"value\", columns=\"sensor_id_id\").describe()"
   ],
   "outputs": [],
   "metadata": {}
  },
  {
   "cell_type": "markdown",
   "source": [
    "There are no values outside at the range limits based on min and max values. There are some -127 value present, but cannot necessarily determine the -99 value."
   ],
   "metadata": {}
  },
  {
   "cell_type": "code",
   "execution_count": null,
   "source": [
    "# count bad quality values\r\n",
    "print(f\"-99 values: {df.value[df.value == -99].count()}\")\r\n",
    "print(f\"-127 values: {df.value[df.value == -127].count()}\")"
   ],
   "outputs": [],
   "metadata": {}
  },
  {
   "cell_type": "code",
   "execution_count": null,
   "source": [
    "df.shape"
   ],
   "outputs": [],
   "metadata": {}
  },
  {
   "cell_type": "code",
   "execution_count": null,
   "source": [
    "# remove values equal to -127\r\n",
    "df = df[df.value != -127]\r\n",
    "df.shape"
   ],
   "outputs": [],
   "metadata": {}
  },
  {
   "cell_type": "code",
   "execution_count": null,
   "source": [
    "# review basic stats\r\n",
    "df.pivot(index=\"timestamp\", values=\"value\", columns=\"sensor_id_id\").describe()"
   ],
   "outputs": [],
   "metadata": {}
  },
  {
   "cell_type": "markdown",
   "source": [
    "Most of the obvious bad quality data was removed"
   ],
   "metadata": {}
  },
  {
   "cell_type": "code",
   "execution_count": null,
   "source": [
    "# pivot data to show sensors as columns against timestamps\r\n",
    "dfp = df.pivot(index=\"timestamp\", values=\"value\", columns=\"sensor_id_id\")\r\n",
    "dfp[100:110].head(10)"
   ],
   "outputs": [],
   "metadata": {}
  },
  {
   "cell_type": "markdown",
   "source": [
    "As this is raw data, `NaN`s cannot be dropped as the `timestamp` is when measurements are taken and some rows will have `NaN`s. As we don't need data at this level of detail, we will resample the data for 1 minute, 5 minute and 1 hour intervals for analysis. We will also check compare the trends to see how much information we may potentially loose."
   ],
   "metadata": {}
  },
  {
   "cell_type": "code",
   "execution_count": null,
   "source": [
    "# replace sensor ids with short names\r\n",
    "for column in dfp.columns:\r\n",
    "    new_column_name = df_meta.sensor_short_name[df_meta.index == column].values[0]\r\n",
    "    dfp.rename(columns={column:new_column_name}, inplace=True)\r\n",
    "\r\n",
    "dfp.head()"
   ],
   "outputs": [],
   "metadata": {}
  },
  {
   "cell_type": "code",
   "execution_count": null,
   "source": [
    "# lineplot of raw data\r\n",
    "sns.lineplot(x=dfp.index, y=\"WIP_temp\", data=dfp, label=\"raw\");"
   ],
   "outputs": [],
   "metadata": {}
  },
  {
   "cell_type": "code",
   "execution_count": null,
   "source": [
    "# select a period of \"normal data\" to use as comparison\r\n",
    "filter_raw = (dfp.index > '2021-05-15') & (dfp.index < '2021-05-16')\r\n",
    "sns.lineplot(x=dfp.index[filter_raw], y=\"WIP_temp\", data=dfp[filter_raw], label=\"raw\");"
   ],
   "outputs": [],
   "metadata": {}
  },
  {
   "cell_type": "markdown",
   "source": [
    "These are typical cycle trends for this system. The large peaks are the periodic defrost cycles while the trends in between is the normal refridgeration cycle swithcing on and off periodically. Current alert limits are between 0 and 8.5 and alarms limits -2 and 10 degrees Celcius."
   ],
   "metadata": {}
  },
  {
   "cell_type": "code",
   "execution_count": null,
   "source": [
    "# resample in 1 minute intervals\r\n",
    "dfp_1min = dfp.resample(\"1min\").mean()\r\n",
    "dfp_1min[100:110].head(10)"
   ],
   "outputs": [],
   "metadata": {}
  },
  {
   "cell_type": "code",
   "execution_count": null,
   "source": [
    "# resample in 5 minute intervals\r\n",
    "dfp_5min = dfp.resample(\"5min\").mean()\r\n",
    "dfp_5min[100:110].head(10)"
   ],
   "outputs": [],
   "metadata": {}
  },
  {
   "cell_type": "code",
   "execution_count": null,
   "source": [
    "# compare raw data and 1 minute resampled data for WIP cold room temperature\r\n",
    "sns.lineplot(x=dfp.index[filter_raw], y=\"WIP_temp\", data=dfp[filter_raw], label=\"raw\")\r\n",
    "\r\n",
    "filter_1min = (dfp_1min.index > '2021-05-15') & (dfp_1min.index < '2021-05-16')\r\n",
    "sns.lineplot(x=dfp_1min.index[filter_1min], y=\"WIP_temp\", data=dfp_1min[filter_1min], label=\"1min\");"
   ],
   "outputs": [],
   "metadata": {}
  },
  {
   "cell_type": "code",
   "execution_count": null,
   "source": [
    "# compare raw data and 5 minute resampled data\r\n",
    "sns.lineplot(x=dfp.index[filter_raw], y=\"WIP_temp\", data=dfp[filter_raw], label=\"raw\")\r\n",
    "\r\n",
    "filter_5min = (dfp_5min.index > '2021-05-15') & (dfp_5min.index < '2021-05-16')\r\n",
    "sns.lineplot(x=dfp_5min.index[filter_5min], y=\"WIP_temp\", data=dfp_5min[filter_5min], label=\"5min\");"
   ],
   "outputs": [],
   "metadata": {}
  },
  {
   "cell_type": "code",
   "execution_count": null,
   "source": [
    "# raw data for current of the WIP refridgeration system\r\n",
    "sns.lineplot(x=dfp.index, y=\"WIP_current\", data=dfp, label=\"raw\");"
   ],
   "outputs": [],
   "metadata": {}
  },
  {
   "cell_type": "markdown",
   "source": [
    "Data looks very noisy as expected as energy consumption depends on several factors and varies a lot based on the loads connected."
   ],
   "metadata": {}
  },
  {
   "cell_type": "code",
   "execution_count": null,
   "source": [
    "# compare raw data and 1 minute resampled data for WIP cold room temperature\r\n",
    "sns.lineplot(x=dfp.index[filter_raw], y=\"WIP_current\", data=dfp[filter_raw], label=\"raw\")\r\n",
    "\r\n",
    "filter_1min = (dfp_1min.index > '2021-05-15') & (dfp_1min.index < '2021-05-16')\r\n",
    "sns.lineplot(x=dfp_1min.index[filter_1min], y=\"WIP_current\", data=dfp_1min[filter_1min], label=\"1min\");"
   ],
   "outputs": [],
   "metadata": {}
  },
  {
   "cell_type": "code",
   "execution_count": null,
   "source": [
    "# compare raw data and 5 minute resampled data\r\n",
    "sns.lineplot(x=dfp.index[filter_raw], y=\"WIP_current\", data=dfp[filter_raw], label=\"raw\")\r\n",
    "\r\n",
    "filter_5min = (dfp_5min.index > '2021-05-15') & (dfp_5min.index < '2021-05-16')\r\n",
    "sns.lineplot(x=dfp_5min.index[filter_5min], y=\"WIP_current\", data=dfp_5min[filter_5min], label=\"5min\");"
   ],
   "outputs": [],
   "metadata": {}
  },
  {
   "cell_type": "markdown",
   "source": [
    "By using 1 minute average data, we keep most of the variability in the data and gives the best real-time view. By using a 5 minute average, the variation in the normal on-off cycle is slightly reduced but the defrost spike is still prominent.\r\n",
    "\r\n",
    "For anomaly detection, the 5 minute data would provide enough information to monitor the refridgeration system and take into account the defrost cycle. As quick action (that is within a seconds) is not needed, this should be good.\r\n",
    "\r\n",
    "For the energy analysis, the 1 minute data would be used to calculate the sum of energy used per hour. The mean would be calculated for temperatures and sum of the current values would give an energy value in Ah. The voltage at the site is 400V in a three-phase system. An average power factor of 0.85 would be assumed."
   ],
   "metadata": {}
  },
  {
   "cell_type": "code",
   "execution_count": null,
   "source": [
    "# calculate Amps-Hours\r\n",
    "dfp_1min['WIP_currentAh'] = dfp_1min.WIP_current/60\r\n",
    "dfp_1min['DP_currentAh'] = dfp_1min.DP_current/60"
   ],
   "outputs": [],
   "metadata": {}
  },
  {
   "cell_type": "code",
   "execution_count": null,
   "source": [
    "dfp_1min.columns"
   ],
   "outputs": [],
   "metadata": {}
  },
  {
   "cell_type": "code",
   "execution_count": null,
   "source": [
    "# resample data - mean for temperatures and sum for energy values (Ah)\r\n",
    "dfp_hour = dfp_1min.resample(\"60min\").agg({\"WIP_temp\": \"mean\", \"DP_temp\": \"mean\", \"Ext_temp\": \"mean\", \"WIP_currentAh\": \"sum\", \"DP_currentAh\": \"sum\"})\r\n",
    "dfp_hour.head()"
   ],
   "outputs": [],
   "metadata": {}
  },
  {
   "cell_type": "code",
   "execution_count": null,
   "source": [
    "# convert Ah to kWh using voltage (3-phase, 400V for this site) and assumed power factor of 0.85\r\n",
    "dfp_hour[\"WIP_energy\"] = math.sqrt(3) * 400 * dfp_hour[\"WIP_currentAh\"] * 0.85 / 1000\r\n",
    "dfp_hour[\"DP_energy\"] = math.sqrt(3) * 400 * dfp_hour[\"DP_currentAh\"] * 0.85 / 1000"
   ],
   "outputs": [],
   "metadata": {}
  },
  {
   "cell_type": "code",
   "execution_count": null,
   "source": [
    "dfp_hour.head()"
   ],
   "outputs": [],
   "metadata": {}
  },
  {
   "cell_type": "code",
   "execution_count": null,
   "source": [
    "# save data to SQLite DB\r\n",
    "engine = create_engine(f\"sqlite:///../data/RawData.db\")\r\n",
    "dfp.to_sql(\"SensorData_raw\", engine, if_exists=\"replace\")"
   ],
   "outputs": [],
   "metadata": {}
  },
  {
   "cell_type": "code",
   "execution_count": null,
   "source": [
    "dfp_1min.to_sql(\"SensorData_1min\", engine, if_exists=\"replace\")"
   ],
   "outputs": [],
   "metadata": {}
  },
  {
   "cell_type": "code",
   "execution_count": null,
   "source": [
    "dfp_5min.to_sql(\"SensorData_5min\", engine, if_exists=\"replace\")"
   ],
   "outputs": [],
   "metadata": {}
  },
  {
   "cell_type": "code",
   "execution_count": null,
   "source": [
    "dfp_hour.to_sql(\"SensorData_1hour\", engine, if_exists=\"replace\")"
   ],
   "outputs": [],
   "metadata": {}
  },
  {
   "cell_type": "code",
   "execution_count": null,
   "source": [
    "df_meta.to_sql(\"SensorDetails\", engine, if_exists=\"replace\")"
   ],
   "outputs": [],
   "metadata": {}
  }
 ],
 "metadata": {
  "orig_nbformat": 4,
  "language_info": {
   "name": "python",
   "version": "3.8.7",
   "mimetype": "text/x-python",
   "codemirror_mode": {
    "name": "ipython",
    "version": 3
   },
   "pygments_lexer": "ipython3",
   "nbconvert_exporter": "python",
   "file_extension": ".py"
  },
  "kernelspec": {
   "name": "python3",
   "display_name": "Python 3.8.7 64-bit ('project04-qxpK7Mej': pipenv)"
  },
  "interpreter": {
   "hash": "acb383213824f3b0082df090227488a6f666fdac1c205be069573f23ae1ca0c8"
  }
 },
 "nbformat": 4,
 "nbformat_minor": 2
}