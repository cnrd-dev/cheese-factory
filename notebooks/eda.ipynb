{
 "cells": [
  {
   "cell_type": "markdown",
   "source": [
    "# Exploratory Data Analysis (EDA)"
   ],
   "metadata": {}
  },
  {
   "cell_type": "code",
   "execution_count": null,
   "source": [
    "# import libraries\r\n",
    "import sys\r\n",
    "import pandas as pd\r\n",
    "import plotly.graph_objects as go\r\n",
    "from plotly.subplots import make_subplots\r\n",
    "from sqlalchemy import create_engine\r\n",
    "import seaborn as sns\r\n",
    "import colorlover as cl\r\n",
    "\r\n",
    "# config graphs\r\n",
    "%matplotlib inline\r\n",
    "sns.set(rc={\"figure.figsize\": (26, 10)})"
   ],
   "outputs": [],
   "metadata": {}
  },
  {
   "cell_type": "code",
   "execution_count": null,
   "source": [
    "# load custom functions\r\n",
    "sys.path.append(\"../\")\r\n",
    "from cnrdlib import cl_eda as cle"
   ],
   "outputs": [],
   "metadata": {}
  },
  {
   "cell_type": "code",
   "execution_count": null,
   "source": [
    "# load 5-min data from data-etl notebook\r\n",
    "engine = create_engine(f\"sqlite:///../data/RawData.db\")\r\n",
    "df = pd.read_sql_table(\"SensorData_5min\", con=engine, index_col=\"timestamp\")\r\n",
    "df.head()"
   ],
   "outputs": [],
   "metadata": {}
  },
  {
   "cell_type": "code",
   "execution_count": null,
   "source": [
    "# load 1-hour data from data-etl notebook\r\n",
    "dfe = pd.read_sql_table(\"SensorData_1hour\", con=engine, index_col=\"timestamp\")\r\n",
    "dfe.head()"
   ],
   "outputs": [],
   "metadata": {}
  },
  {
   "cell_type": "code",
   "execution_count": null,
   "source": [
    "# examine trends\r\n",
    "cle.plot_timeseries_static(dfe, \"WIP_temp\", \"WIP_energy\", \"WIP cold room temperature vs energy consumption\")"
   ],
   "outputs": [],
   "metadata": {}
  },
  {
   "cell_type": "code",
   "execution_count": null,
   "source": [
    "cle.plot_timeseries_static(dfe, \"Ext_temp\", \"WIP_energy\", \"External temperature vs energy consumption\")"
   ],
   "outputs": [],
   "metadata": {}
  },
  {
   "cell_type": "code",
   "execution_count": null,
   "source": [
    "cle.plot_timeseries_plotly(dfe, [\"WIP_energy\", \"WIP_temp\", \"Ext_temp\"], \"WIP cold room energy vs cold room temperature and external temperature\")"
   ],
   "outputs": [],
   "metadata": {}
  },
  {
   "cell_type": "markdown",
   "source": [
    "- There appears to be some peaks in energy that match daily temperatures during week days, but not much variation on weekends. The day of the week may be a good feature to use.\r\n",
    "- There are some periods where no clear pattern is seen - these may be specific plant conditions or maintenance."
   ],
   "metadata": {}
  },
  {
   "cell_type": "code",
   "execution_count": null,
   "source": [
    "cle.plot_timeseries_plotly(dfe, [\"DP_energy\", \"DP_temp\", \"Ext_temp\"], \"Dispatch cold room energy vs cold room temperature and external temperature\")"
   ],
   "outputs": [],
   "metadata": {}
  },
  {
   "cell_type": "code",
   "execution_count": null,
   "source": [
    "# plot histograms\r\n",
    "cle.plot_hist([\"Ext_temp\", \"WIP_temp\", \"WIP_energy\"], dfe)"
   ],
   "outputs": [],
   "metadata": {}
  },
  {
   "cell_type": "code",
   "execution_count": null,
   "source": [
    "cle.plot_hist([\"Ext_temp\", \"DP_temp\", \"DP_energy\"], dfe)"
   ],
   "outputs": [],
   "metadata": {}
  },
  {
   "cell_type": "markdown",
   "source": [
    "- External temperature is normally distributed, which makes sense\r\n",
    "- The `WIP_temp` looks as expected with a specific set-point. The `DP_temp` seems to have two different set-points.\r\n",
    "- On the energy, we can see periods where the equipment was off (bin at 0)."
   ],
   "metadata": {}
  },
  {
   "cell_type": "code",
   "execution_count": null,
   "source": [
    "# add weekday feature\r\n",
    "dfe[\"weekday\"] = dfe.index.day_name()"
   ],
   "outputs": [],
   "metadata": {}
  },
  {
   "cell_type": "code",
   "execution_count": null,
   "source": [
    "# examine how energy differs per weekday\r\n",
    "sns.kdeplot(data=dfe, x=\"WIP_energy\", hue=\"weekday\", palette=\"tab10\");"
   ],
   "outputs": [],
   "metadata": {}
  },
  {
   "cell_type": "code",
   "execution_count": null,
   "source": [
    "sns.kdeplot(data=dfe, x=\"DP_energy\", hue=\"weekday\", palette=\"tab10\");"
   ],
   "outputs": [],
   "metadata": {}
  },
  {
   "cell_type": "code",
   "execution_count": null,
   "source": [
    "# scatter plot for energy vs temperature\r\n",
    "sns.lmplot(x=\"WIP_temp\", y=\"WIP_energy\", data=dfe, aspect=2, lowess=True, line_kws={'color': 'red'});"
   ],
   "outputs": [],
   "metadata": {}
  },
  {
   "cell_type": "markdown",
   "source": [
    "- The WIP temperature is more an operating parameter rather than a variable that affects energy consumption. \r\n",
    "- The temperature is concentrated around the 4dC mark (the setpoint) and variation in energy consumption can be seen."
   ],
   "metadata": {}
  },
  {
   "cell_type": "code",
   "execution_count": null,
   "source": [
    "sns.lmplot(x=\"DP_temp\", y=\"DP_energy\", data=dfe, aspect=2, lowess=True, line_kws={'color': 'red'});"
   ],
   "outputs": [],
   "metadata": {}
  },
  {
   "cell_type": "code",
   "execution_count": null,
   "source": [
    "sns.lmplot(x=\"Ext_temp\", y=\"WIP_energy\", data=dfe, aspect=2, lowess=True, line_kws={'color': 'red'});"
   ],
   "outputs": [],
   "metadata": {}
  },
  {
   "cell_type": "markdown",
   "source": [
    "- Seems to be a correlation between energy and external temperature, which makes sense. The hotter it is outide, the more cooling energy is required. This also depends on the quality of the insulation.\r\n",
    "- Other factors that are not measured are the number of times the fridge door is opened and it hot cheese is placed in the cold room.\r\n",
    "- There appear to be some bad data points that seem stuck at 2 for `WIP_energy`"
   ],
   "metadata": {}
  },
  {
   "cell_type": "code",
   "execution_count": null,
   "source": [
    "sns.lmplot(x=\"Ext_temp\", y=\"DP_energy\", data=dfe, aspect=2, lowess=True, line_kws={'color': 'red'});"
   ],
   "outputs": [],
   "metadata": {}
  },
  {
   "cell_type": "code",
   "execution_count": null,
   "source": [
    "sns.lmplot(x=\"Ext_temp\", y=\"WIP_energy\", data=dfe, aspect=2, lowess=True, hue=\"weekday\", palette=\"tab10\");"
   ],
   "outputs": [],
   "metadata": {}
  },
  {
   "cell_type": "markdown",
   "source": [
    "- As though earlier, energy consumption on Saterdays and Sundays are different from other days during the week. No works takes place on weekends.\r\n",
    "- During the week, there is constant movement in and out of the cold room and adding new product."
   ],
   "metadata": {}
  },
  {
   "cell_type": "code",
   "execution_count": null,
   "source": [
    "sns.lmplot(x=\"Ext_temp\", y=\"DP_energy\", data=dfe, aspect=2, lowess=True, hue=\"weekday\", palette=\"tab10\");"
   ],
   "outputs": [],
   "metadata": {}
  },
  {
   "cell_type": "code",
   "execution_count": null,
   "source": [
    "dfe.head()"
   ],
   "outputs": [],
   "metadata": {}
  },
  {
   "cell_type": "markdown",
   "source": [
    "## Calculate Specific Energy Consumptions (SEC)"
   ],
   "metadata": {}
  },
  {
   "cell_type": "code",
   "execution_count": null,
   "source": [
    "dfe[\"SEC_WIP\"] = dfe.WIP_energy / dfe.Ext_temp\r\n",
    "dfe[\"SEC_DP\"] = dfe.DP_energy / dfe.Ext_temp"
   ],
   "outputs": [],
   "metadata": {}
  },
  {
   "cell_type": "code",
   "execution_count": null,
   "source": [
    "sns.lmplot(x=\"Ext_temp\", y=\"SEC_WIP\", data=dfe, aspect=2, lowess=True, line_kws={'color': 'red'});"
   ],
   "outputs": [],
   "metadata": {}
  },
  {
   "cell_type": "code",
   "execution_count": null,
   "source": [
    "sns.lmplot(x=\"Ext_temp\", y=\"SEC_DP\", data=dfe, aspect=2, lowess=True, line_kws={'color': 'red'});"
   ],
   "outputs": [],
   "metadata": {}
  },
  {
   "cell_type": "markdown",
   "source": [
    "## Calculate cooling degree days as a potential feature"
   ],
   "metadata": {}
  },
  {
   "cell_type": "code",
   "execution_count": null,
   "source": [
    "# use setpoint as base temperature\r\n",
    "base_temperature = 4"
   ],
   "outputs": [],
   "metadata": {}
  },
  {
   "cell_type": "code",
   "execution_count": null,
   "source": [
    "dfe[\"CDD\"] = dfe.Ext_temp - base_temperature\r\n",
    "dfe.head(10)"
   ],
   "outputs": [],
   "metadata": {}
  },
  {
   "cell_type": "code",
   "execution_count": null,
   "source": [
    "dfe[\"CDD_check\"] = 0\r\n",
    "dfe[\"CDD_check\"][dfe.CDD > 0] = 1\r\n",
    "dfe.head(10)"
   ],
   "outputs": [],
   "metadata": {}
  },
  {
   "cell_type": "code",
   "execution_count": null,
   "source": [
    "dfe.CDD_check[dfe.CDD_check == 0]"
   ],
   "outputs": [],
   "metadata": {}
  },
  {
   "cell_type": "code",
   "execution_count": null,
   "source": [
    "dfe[\"CDD_calc\"] = dfe.CDD * dfe.CDD_check"
   ],
   "outputs": [],
   "metadata": {}
  },
  {
   "cell_type": "code",
   "execution_count": null,
   "source": [
    "dfe_daily = dfe.resample(\"D\").agg({\"CDD_calc\": \"sum\", \"WIP_energy\": \"sum\", \"DP_energy\": \"sum\", \"WIP_temp\": \"mean\", \"DP_temp\": \"mean\", \"Ext_temp\": \"mean\"})\r\n",
    "dfe_daily.head()"
   ],
   "outputs": [],
   "metadata": {}
  },
  {
   "cell_type": "code",
   "execution_count": null,
   "source": [
    "dfe_daily.CDD_calc = dfe_daily.CDD_calc/24\r\n",
    "dfe_daily.head()"
   ],
   "outputs": [],
   "metadata": {}
  },
  {
   "cell_type": "code",
   "execution_count": null,
   "source": [
    "sns.lmplot(x=\"CDD_calc\", y=\"WIP_energy\", data=dfe_daily, aspect=2, lowess=True, line_kws={'color': 'red'});"
   ],
   "outputs": [],
   "metadata": {}
  },
  {
   "cell_type": "code",
   "execution_count": null,
   "source": [
    "sns.lmplot(x=\"CDD_calc\", y=\"DP_energy\", data=dfe_daily, aspect=2, lowess=True, line_kws={'color': 'red'});"
   ],
   "outputs": [],
   "metadata": {}
  },
  {
   "cell_type": "code",
   "execution_count": null,
   "source": [
    "fig = go.Figure()\r\n",
    "fig = make_subplots(specs=[[{\"secondary_y\": True}]])\r\n",
    "fig.add_trace(go.Scatter(x=dfe_daily.index, y=dfe_daily.DP_energy, mode='lines', name='energy'), secondary_y=False)\r\n",
    "fig.add_trace(go.Scatter(x=dfe_daily.index, y=dfe_daily.DP_temp, mode='lines', name='cold room temp'), secondary_y=True)\r\n",
    "fig.add_trace(go.Scatter(x=dfe_daily.index, y=dfe_daily.Ext_temp, mode='lines', name='external temp'), secondary_y=True)\r\n",
    "fig.show()"
   ],
   "outputs": [],
   "metadata": {}
  },
  {
   "cell_type": "code",
   "execution_count": null,
   "source": [
    "sns.lmplot(data=dfe_daily, x=\"Ext_temp\", y=\"DP_energy\", aspect=2, lowess=True, line_kws={'color': 'red'});"
   ],
   "outputs": [],
   "metadata": {}
  },
  {
   "cell_type": "code",
   "execution_count": null,
   "source": [
    "sns.histplot(data=dfe_daily, x=\"DP_temp\");"
   ],
   "outputs": [],
   "metadata": {}
  },
  {
   "cell_type": "code",
   "execution_count": null,
   "source": [
    "# use 3.5 dC as point to split the setpoint\r\n",
    "dfe_daily[\"DP_setpoint\"] = \"low\"\r\n",
    "dfe_daily[\"DP_setpoint\"][dfe_daily.DP_temp > 3.5] = \"high\""
   ],
   "outputs": [],
   "metadata": {}
  },
  {
   "cell_type": "code",
   "execution_count": null,
   "source": [
    "sns.lmplot(data=dfe_daily, x=\"Ext_temp\", y=\"DP_energy\", aspect=2, lowess=True, hue=\"DP_setpoint\");"
   ],
   "outputs": [],
   "metadata": {}
  },
  {
   "cell_type": "markdown",
   "source": [
    "- As expected, the lower the setpoint, the more energy is being used. Noting that energy is highly influenced by the external temperature."
   ],
   "metadata": {}
  },
  {
   "cell_type": "code",
   "execution_count": null,
   "source": [
    "# scatter plot\r\n",
    "scl = cl.scales[\"9\"][\"seq\"][\"Blues\"]\r\n",
    "colorscale = [[float(i) / float(len(scl) - 1), scl[i]] for i in range(len(scl))]\r\n",
    "\r\n",
    "trace = go.Scatter(\r\n",
    "    x=dfe_daily.Ext_temp,\r\n",
    "    y=dfe_daily.DP_energy,\r\n",
    "    text=dfe_daily.index,\r\n",
    "    mode=\"markers+text\",\r\n",
    "    textposition=\"top center\",\r\n",
    "    hoverinfo=\"text\",\r\n",
    "    marker=dict(opacity=0.5, sizemin=5, sizemode=\"area\"),\r\n",
    ")\r\n",
    "trace_c = go.Histogram2dContour(\r\n",
    "    x=dfe_daily.Ext_temp,\r\n",
    "    y=dfe_daily.DP_energy,\r\n",
    "    ncontours=5,\r\n",
    "    colorscale=colorscale,\r\n",
    "    showscale=False,\r\n",
    "    opacity=0.3,\r\n",
    ")\r\n",
    "data = [trace, trace_c]\r\n",
    "layout = go.Layout(title=\"Scatter plot\")\r\n",
    "fig = go.Figure(data=data, layout=layout)\r\n",
    "fig.show()"
   ],
   "outputs": [],
   "metadata": {}
  },
  {
   "cell_type": "code",
   "execution_count": null,
   "source": [
    "# remove some outliers\r\n",
    "dfe_daily.drop([\"2021-05-02\", \"2021-05-04\"], inplace=True)"
   ],
   "outputs": [],
   "metadata": {}
  },
  {
   "cell_type": "code",
   "execution_count": null,
   "source": [
    "# remove zero energy values\r\n",
    "dfe_daily = dfe_daily[dfe_daily.DP_energy > 0]"
   ],
   "outputs": [],
   "metadata": {}
  },
  {
   "cell_type": "code",
   "execution_count": null,
   "source": [
    "sns.lmplot(data=dfe_daily, x=\"Ext_temp\", y=\"DP_energy\", aspect=2, lowess=True, hue=\"DP_setpoint\");"
   ],
   "outputs": [],
   "metadata": {}
  },
  {
   "cell_type": "code",
   "execution_count": null,
   "source": [
    "sns.boxplot(x=\"DP_setpoint\", y=\"DP_energy\", data=dfe_daily);"
   ],
   "outputs": [],
   "metadata": {}
  },
  {
   "cell_type": "markdown",
   "source": [
    "## Estimate potential savings\r\n",
    "- This method estimates energy savings assuming that the setpoint at 4 dC is within spec for the product. Anything lower than that is assumed to be cooling more than needed and this consuming more energy than needed.\r\n",
    "- An energy model will be build to compare this basic analysis with a more robust and accurate method."
   ],
   "metadata": {}
  },
  {
   "cell_type": "code",
   "execution_count": null,
   "source": [
    "low_sp_mean = dfe_daily.DP_energy[dfe_daily.DP_setpoint == \"low\"].mean()\r\n",
    "high_sp_mean = dfe_daily.DP_energy[dfe_daily.DP_setpoint == \"high\"].mean()\r\n",
    "mean_difference = low_sp_mean - high_sp_mean\r\n",
    "print(f\"Mean energy difference is {mean_difference:0.2f} kWh per day\")\r\n",
    "print(f\"Over a year, that equates to {mean_difference*365:0.0f} kWh per annum\")\r\n",
    "print(f\"That is approximately a reduction of {mean_difference*365*1.04:0.0f} kg CO2e and saving R {mean_difference*365*1.80:0.0f} per annum\")"
   ],
   "outputs": [],
   "metadata": {}
  },
  {
   "cell_type": "code",
   "execution_count": null,
   "source": [
    "total_energy_low = dfe_daily.DP_energy[dfe_daily.DP_setpoint == \"low\"].sum()\r\n",
    "total_energy_high= dfe_daily.DP_energy[dfe_daily.DP_setpoint == \"high\"].sum()\r\n",
    "\r\n",
    "estimated_annual_energy_low = total_energy_low / dfe_daily.DP_energy[dfe_daily.DP_setpoint == \"low\"].count() * 365\r\n",
    "estimated_annual_energy_high = total_energy_high / dfe_daily.DP_energy[dfe_daily.DP_setpoint == \"high\"].count() * 365\r\n",
    "total_difference = estimated_annual_energy_low - estimated_annual_energy_high\r\n",
    "percentage_saving = total_difference / estimated_annual_energy_high * 100\r\n",
    "\r\n",
    "print(f\"Estimated annual energy consumption at low set-point: {estimated_annual_energy_low:0.0f} kWh\")\r\n",
    "print(f\"Estimated annual energy consumption at high set-point: {estimated_annual_energy_high:0.0f} kWh\")\r\n",
    "print(f\"Total estimated annual energy consumption difference: {total_difference:0.0f} kWh\")\r\n",
    "print(f\"Percentage potential saving: {percentage_saving:0.2f}%\")"
   ],
   "outputs": [],
   "metadata": {}
  },
  {
   "cell_type": "code",
   "execution_count": null,
   "source": [
    "# save data for modelling\r\n",
    "dfe_daily.to_sql(\"DailyDataEnergy\", engine, if_exists=\"replace\")"
   ],
   "outputs": [],
   "metadata": {}
  }
 ],
 "metadata": {
  "orig_nbformat": 4,
  "language_info": {
   "name": "python",
   "version": "3.8.7",
   "mimetype": "text/x-python",
   "codemirror_mode": {
    "name": "ipython",
    "version": 3
   },
   "pygments_lexer": "ipython3",
   "nbconvert_exporter": "python",
   "file_extension": ".py"
  },
  "kernelspec": {
   "name": "python3",
   "display_name": "Python 3.8.7 64-bit ('project04-qxpK7Mej': pipenv)"
  },
  "interpreter": {
   "hash": "acb383213824f3b0082df090227488a6f666fdac1c205be069573f23ae1ca0c8"
  }
 },
 "nbformat": 4,
 "nbformat_minor": 2
}