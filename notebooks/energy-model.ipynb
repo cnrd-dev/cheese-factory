{
 "cells": [
  {
   "cell_type": "markdown",
   "source": [
    "# Energy modeling for DP cold room\r\n",
    "- This analysis will look at the Dispatch (DP) cold room to build an energy model and estimate potential savings using a 4 dC setpoint instead of 2 dC.\r\n",
    "- The results will also be compared with the basic estimate used in EDA."
   ],
   "metadata": {}
  },
  {
   "cell_type": "code",
   "execution_count": null,
   "source": [
    "# import libraries\r\n",
    "import sys\r\n",
    "import numpy as np\r\n",
    "import pandas as pd\r\n",
    "import math\r\n",
    "import sklearn.metrics as sklm\r\n",
    "import sklearn.model_selection as ms\r\n",
    "from sklearn import preprocessing\r\n",
    "import joblib\r\n",
    "from sklearn.model_selection import (\r\n",
    "    GridSearchCV,\r\n",
    "    KFold,\r\n",
    ")\r\n",
    "import plotly.io as pio\r\n",
    "import plotly.graph_objects as go\r\n",
    "import seaborn as sns\r\n",
    "import matplotlib.pyplot as plt\r\n",
    "import statsmodels.api as sm\r\n",
    "import xgboost as xgb\r\n",
    "import colorlover as cl\r\n",
    "from sqlalchemy import create_engine\r\n",
    "import shap\r\n",
    "\r\n",
    "# configs\r\n",
    "pd.options.display.float_format = \"{:,.2f}\".format\r\n",
    "%matplotlib inline\r\n",
    "plt.rcParams[\"figure.figsize\"] = 10, 6\r\n",
    "pio.templates.default = \"plotly_white\""
   ],
   "outputs": [],
   "metadata": {}
  },
  {
   "cell_type": "code",
   "execution_count": null,
   "source": [
    "# load custom functions\r\n",
    "sys.path.append(\"../\")\r\n",
    "from cnrdlib import cl_ml as clml"
   ],
   "outputs": [],
   "metadata": {}
  },
  {
   "cell_type": "code",
   "execution_count": null,
   "source": [
    "# load daily data from eda notebook\r\n",
    "engine = create_engine(f\"sqlite:///../data/RawData.db\")\r\n",
    "df = pd.read_sql_table(\"DailyDataEnergy\", con=engine, index_col=\"timestamp\")\r\n",
    "df.head()"
   ],
   "outputs": [],
   "metadata": {}
  },
  {
   "cell_type": "code",
   "execution_count": null,
   "source": [
    "# add day of the week\r\n",
    "df[\"day_of_week\"] = df.index.dayofweek\r\n",
    "df.head()"
   ],
   "outputs": [],
   "metadata": {}
  },
  {
   "cell_type": "code",
   "execution_count": null,
   "source": [
    "# check data points for high set-point\r\n",
    "len(df[df.DP_setpoint == \"high\"])"
   ],
   "outputs": [],
   "metadata": {}
  },
  {
   "cell_type": "code",
   "execution_count": null,
   "source": [
    "# check data points for low set-point\r\n",
    "len(df[df.DP_setpoint == \"low\"])"
   ],
   "outputs": [],
   "metadata": {}
  },
  {
   "cell_type": "markdown",
   "source": [
    "- Good split of data with 53 days at the high setpoint and 61 days at the low setpoint."
   ],
   "metadata": {}
  },
  {
   "cell_type": "markdown",
   "source": [
    "# Create baseline model\r\n",
    "- The high setpoint will be used as the baseline.\r\n",
    "- The low setpoint will be used as the reporting period to calculate the additional energy used."
   ],
   "metadata": {}
  },
  {
   "cell_type": "code",
   "execution_count": null,
   "source": [
    "# create different data frames for modelling\r\n",
    "df_bl = df[df.DP_setpoint == \"high\"]\r\n",
    "df_rp = df[df.DP_setpoint == \"low\"]"
   ],
   "outputs": [],
   "metadata": {}
  },
  {
   "cell_type": "code",
   "execution_count": null,
   "source": [
    "# basic scatter plot to visually check the baseline data\r\n",
    "sns.lmplot(\r\n",
    "    data=df_bl,\r\n",
    "    x=\"Ext_temp\",\r\n",
    "    y=\"DP_energy\",\r\n",
    "    lowess=True,\r\n",
    "    line_kws={\"color\": \"red\"},\r\n",
    "    aspect=1.6,\r\n",
    ")\r\n",
    "sns.kdeplot(data=df_bl, x=\"Ext_temp\", y=\"DP_energy\")\r\n",
    "plt.show()"
   ],
   "outputs": [],
   "metadata": {}
  },
  {
   "cell_type": "code",
   "execution_count": null,
   "source": [
    "# interactive scatter plot to zoom in and identify outliers\r\n",
    "scl = cl.scales[\"9\"][\"seq\"][\"Blues\"]\r\n",
    "colorscale = [[float(i) / float(len(scl) - 1), scl[i]] for i in range(len(scl))]\r\n",
    "\r\n",
    "trace = go.Scatter(\r\n",
    "    x=df_bl.Ext_temp,\r\n",
    "    y=df_bl.DP_energy,\r\n",
    "    text=df_bl.index,\r\n",
    "    mode=\"markers+text\",\r\n",
    "    textposition=\"top center\",\r\n",
    "    hoverinfo=\"text\",\r\n",
    "    marker=dict(opacity=0.5, sizemin=5, sizemode=\"area\"),\r\n",
    ")\r\n",
    "trace_c = go.Histogram2dContour(\r\n",
    "    x=df_bl.Ext_temp,\r\n",
    "    y=df_bl.DP_energy,\r\n",
    "    ncontours=5,\r\n",
    "    colorscale=colorscale,\r\n",
    "    showscale=False,\r\n",
    "    opacity=0.3,\r\n",
    ")\r\n",
    "data = [trace, trace_c]\r\n",
    "layout = go.Layout(title=\"Scatter plot\")\r\n",
    "fig = go.Figure(data=data, layout=layout)\r\n",
    "fig.show()"
   ],
   "outputs": [],
   "metadata": {}
  },
  {
   "cell_type": "code",
   "execution_count": null,
   "source": [
    "# remove some outliers\r\n",
    "df_bl.drop([\"2021-05-21\", \"2021-04-10\", \"2021-04-08\", \"2021-04-01\"], inplace=True)"
   ],
   "outputs": [],
   "metadata": {}
  },
  {
   "cell_type": "code",
   "execution_count": null,
   "source": [
    "# basic scatter plot to visually check the baseline data again :-)\r\n",
    "sns.lmplot(\r\n",
    "    data=df_bl,\r\n",
    "    x=\"Ext_temp\",\r\n",
    "    y=\"DP_energy\",\r\n",
    "    lowess=True,\r\n",
    "    line_kws={\"color\": \"red\"},\r\n",
    "    aspect=1.6,\r\n",
    ")\r\n",
    "sns.kdeplot(data=df_bl, x=\"Ext_temp\", y=\"DP_energy\")\r\n",
    "plt.show()"
   ],
   "outputs": [],
   "metadata": {}
  },
  {
   "cell_type": "code",
   "execution_count": null,
   "source": [
    "# basic scatter plot to visually check the reporting period data\r\n",
    "sns.lmplot(\r\n",
    "    data=df_rp,\r\n",
    "    x=\"Ext_temp\",\r\n",
    "    y=\"DP_energy\",\r\n",
    "    lowess=True,\r\n",
    "    line_kws={\"color\": \"red\"},\r\n",
    "    aspect=1.6,\r\n",
    ")\r\n",
    "sns.kdeplot(data=df_rp, x=\"Ext_temp\", y=\"DP_energy\")\r\n",
    "plt.show()"
   ],
   "outputs": [],
   "metadata": {}
  },
  {
   "cell_type": "code",
   "execution_count": null,
   "source": [
    "# feat_cols = [\"DP_temp\", \"Ext_temp\", \"CDD_calc\"]\r\n",
    "feat_cols = [\"DP_temp\", \"Ext_temp\"]\r\n",
    "print(feat_cols)\r\n",
    "\r\n",
    "feat_labs_cols = feat_cols + [\"DP_energy\"]\r\n",
    "print(feat_labs_cols)"
   ],
   "outputs": [],
   "metadata": {}
  },
  {
   "cell_type": "code",
   "execution_count": null,
   "source": [
    "# split features into numpy array\r\n",
    "features = np.array(df_bl[feat_cols])\r\n",
    "print(features.shape)"
   ],
   "outputs": [],
   "metadata": {}
  },
  {
   "cell_type": "code",
   "execution_count": null,
   "source": [
    "p = features.shape[1]\r\n",
    "print(p)"
   ],
   "outputs": [],
   "metadata": {}
  },
  {
   "cell_type": "code",
   "execution_count": null,
   "source": [
    "label = np.array(df_bl[\"DP_energy\"])"
   ],
   "outputs": [],
   "metadata": {}
  },
  {
   "cell_type": "code",
   "execution_count": null,
   "source": [
    "# train-test split\r\n",
    "np.random.seed(4256)\r\n",
    "\r\n",
    "indx = range(features.shape[0])\r\n",
    "indx = ms.train_test_split(\r\n",
    "    indx,\r\n",
    "    test_size=0.25,\r\n",
    ")\r\n",
    "\r\n",
    "x_train = features[indx[0], :]\r\n",
    "y_train = np.ravel(label[indx[0]])\r\n",
    "x_test = features[indx[1], :]\r\n",
    "y_test = np.ravel(label[indx[1]])"
   ],
   "outputs": [],
   "metadata": {}
  },
  {
   "cell_type": "code",
   "execution_count": null,
   "source": [
    "# scale features\r\n",
    "scaler = preprocessing.StandardScaler().fit(x_train[:, :])\r\n",
    "x_train[:, :] = scaler.transform(x_train[:, :])\r\n",
    "x_test[:, :] = scaler.transform(x_test[:, :])\r\n",
    "\r\n",
    "# save scaler model\r\n",
    "joblib.dump(scaler, \"../models/model_feature_scaling.pkl\")\r\n",
    "\r\n",
    "x_train[:5, :]"
   ],
   "outputs": [],
   "metadata": {}
  },
  {
   "cell_type": "markdown",
   "source": [
    "# Linear model\r\n",
    "Base reference"
   ],
   "metadata": {}
  },
  {
   "cell_type": "code",
   "execution_count": null,
   "source": [
    "x_train_constant = sm.add_constant(x_train)\r\n",
    "x_test_constant = sm.add_constant(x_test)"
   ],
   "outputs": [],
   "metadata": {}
  },
  {
   "cell_type": "code",
   "execution_count": null,
   "source": [
    "model_lin = sm.OLS(y_train, x_train_constant)\r\n",
    "model_lin_fit = model_lin.fit()\r\n",
    "model_lin_fit.summary()"
   ],
   "outputs": [],
   "metadata": {}
  },
  {
   "cell_type": "code",
   "execution_count": null,
   "source": [
    "y_hat = model_lin_fit.predict(x_train_constant)"
   ],
   "outputs": [],
   "metadata": {}
  },
  {
   "cell_type": "code",
   "execution_count": null,
   "source": [
    "clml.regression_metrics(y_train, y_hat, p)"
   ],
   "outputs": [],
   "metadata": {}
  },
  {
   "cell_type": "code",
   "execution_count": null,
   "source": [
    "clml.diagnostic_plots(x_train, y_train, y_hat)"
   ],
   "outputs": [],
   "metadata": {}
  },
  {
   "cell_type": "code",
   "execution_count": null,
   "source": [
    "y_score = model_lin_fit.predict(x_test_constant)\r\n",
    "clml.regression_metrics(y_test, y_score, p)"
   ],
   "outputs": [],
   "metadata": {}
  },
  {
   "cell_type": "code",
   "execution_count": null,
   "source": [
    "clml.diagnostic_plots(x_test, y_test, y_score)"
   ],
   "outputs": [],
   "metadata": {}
  },
  {
   "cell_type": "markdown",
   "source": [
    "# XGBoost"
   ],
   "metadata": {}
  },
  {
   "cell_type": "code",
   "execution_count": null,
   "source": [
    "# set up parameter grid\r\n",
    "xgbm_param_grid = {\r\n",
    "    \"learning_rate\": [0.01, 0.1, 0.3, 0.6, 0.9],\r\n",
    "    \"n_estimators\": [25, 50, 100, 150],\r\n",
    "    \"subsample\": [0.3, 0.5, 0.9],\r\n",
    "    \"colsample_bytree\": [0.3, 0.5, 0.7],\r\n",
    "    \"gamma\": [0.3, 0.5, 0.7],\r\n",
    "    \"max_depth\": [3, 5, 7, 9],\r\n",
    "    \"objective\": [\"reg:squarederror\"],\r\n",
    "}"
   ],
   "outputs": [],
   "metadata": {}
  },
  {
   "cell_type": "code",
   "execution_count": null,
   "source": [
    "k_fold = KFold(n_splits=3)\r\n",
    "model_xgb = xgb.XGBRegressor()"
   ],
   "outputs": [],
   "metadata": {}
  },
  {
   "cell_type": "code",
   "execution_count": null,
   "source": [
    "# setup grid search parameters\r\n",
    "grid_mse = GridSearchCV(\r\n",
    "    estimator=model_xgb,\r\n",
    "    param_grid=xgbm_param_grid,\r\n",
    "    scoring=\"neg_mean_squared_error\",\r\n",
    "    cv=k_fold,\r\n",
    "    verbose=1,\r\n",
    "    n_jobs=8,\r\n",
    ")"
   ],
   "outputs": [],
   "metadata": {}
  },
  {
   "cell_type": "code",
   "execution_count": null,
   "source": [
    "# fit model\r\n",
    "grid_mse.fit(x_train, y_train)"
   ],
   "outputs": [],
   "metadata": {}
  },
  {
   "cell_type": "code",
   "execution_count": null,
   "source": [
    "# print the best parameters and lowest RMSE\r\n",
    "print(f\"Best parameters found: {grid_mse.best_params_}\")\r\n",
    "print(f\"Lowest RMSE found: {np.sqrt(np.abs(grid_mse.best_score_)):0.2f}\")"
   ],
   "outputs": [],
   "metadata": {}
  },
  {
   "cell_type": "code",
   "execution_count": null,
   "source": [
    "# use best parameters\r\n",
    "model_xgb = xgb.XGBRegressor(\r\n",
    "    colsample_bytree=0.3,\r\n",
    "    gamma=0.5,\r\n",
    "    learning_rate=0.3,\r\n",
    "    max_depth=5,\r\n",
    "    n_estimators=25,\r\n",
    "    subsample=0.3,\r\n",
    ")"
   ],
   "outputs": [],
   "metadata": {}
  },
  {
   "cell_type": "code",
   "execution_count": null,
   "source": [
    "# fit model\r\n",
    "model_xgb_fit = model_xgb.fit(x_train, y_train)"
   ],
   "outputs": [],
   "metadata": {}
  },
  {
   "cell_type": "code",
   "execution_count": null,
   "source": [
    "y_hat = model_xgb_fit.predict(x_train)\r\n",
    "clml.regression_metrics(y_train, y_hat, p)"
   ],
   "outputs": [],
   "metadata": {}
  },
  {
   "cell_type": "code",
   "execution_count": null,
   "source": [
    "clml.diagnostic_plots(x_train, y_train, y_hat)"
   ],
   "outputs": [],
   "metadata": {}
  },
  {
   "cell_type": "code",
   "execution_count": null,
   "source": [
    "y_score = model_xgb_fit.predict(x_test)\r\n",
    "clml.regression_metrics(y_test, y_score, p)"
   ],
   "outputs": [],
   "metadata": {}
  },
  {
   "cell_type": "code",
   "execution_count": null,
   "source": [
    "clml.diagnostic_plots(x_test, y_test, y_score)"
   ],
   "outputs": [],
   "metadata": {}
  },
  {
   "cell_type": "code",
   "execution_count": null,
   "source": [
    "#explain the model's predictions using SHAP values\r\n",
    "explainer = shap.TreeExplainer(model_xgb_fit)\r\n",
    "shap_values = explainer.shap_values(x_train)"
   ],
   "outputs": [],
   "metadata": {}
  },
  {
   "cell_type": "code",
   "execution_count": null,
   "source": [
    "#summarize the effects of all the features\r\n",
    "shap.summary_plot(shap_values, x_train, feature_names=feat_cols)"
   ],
   "outputs": [],
   "metadata": {}
  },
  {
   "cell_type": "code",
   "execution_count": null,
   "source": [
    "shap.summary_plot(shap_values, x_train, plot_type='bar', feature_names=feat_cols)"
   ],
   "outputs": [],
   "metadata": {}
  },
  {
   "cell_type": "markdown",
   "source": [
    "- XGBoost model gives a better fit and slightly better prediction"
   ],
   "metadata": {}
  },
  {
   "cell_type": "code",
   "execution_count": null,
   "source": [
    "# save model model\r\n",
    "joblib.dump(model_xgb_fit, \"../models/model_predict_xgboost.pkl\")"
   ],
   "outputs": [],
   "metadata": {}
  },
  {
   "cell_type": "code",
   "execution_count": null,
   "source": [
    "SEmodel = math.sqrt(sklm.mean_squared_error(y_test, y_score))\r\n",
    "print(f\"Standard error of the model is {SEmodel:0.2f}\")"
   ],
   "outputs": [],
   "metadata": {}
  },
  {
   "cell_type": "markdown",
   "source": [
    "## Calculate energy performance"
   ],
   "metadata": {}
  },
  {
   "cell_type": "code",
   "execution_count": null,
   "source": [
    "# split features into numpy array\r\n",
    "features_rp = np.array(df_rp[feat_cols])\r\n",
    "print(features_rp.shape)"
   ],
   "outputs": [],
   "metadata": {}
  },
  {
   "cell_type": "code",
   "execution_count": null,
   "source": [
    "# import models for reporting period\r\n",
    "scaler = joblib.load(\"../models/model_feature_scaling.pkl\")\r\n",
    "model_opt = joblib.load(\"../models/model_predict_xgboost.pkl\")"
   ],
   "outputs": [],
   "metadata": {}
  },
  {
   "cell_type": "code",
   "execution_count": null,
   "source": [
    "# normalise features\r\n",
    "x_rp = scaler.transform(features_rp[:, :])\r\n",
    "x_rp[:5, :]"
   ],
   "outputs": [],
   "metadata": {}
  },
  {
   "cell_type": "code",
   "execution_count": null,
   "source": [
    "# predict expected consumption\r\n",
    "y_rp = model_opt.predict(x_rp)"
   ],
   "outputs": [],
   "metadata": {}
  },
  {
   "cell_type": "code",
   "execution_count": null,
   "source": [
    "df_rp[\"ExpectedkWh\"] = y_rp\r\n",
    "\r\n",
    "df_rp[\"Residuals\"] = df_rp.DP_energy - df_rp.ExpectedkWh\r\n",
    "df_rp[\"CUSUM\"] = df_rp.Residuals.cumsum()\r\n",
    "\r\n",
    "# df_rp[\"TargetkWh\"] = df_rp.ExpectedkWh * 0.97\r\n",
    "# df_rp[\"ResidualsT\"] = df_rp.TargetkWh - df_rp.ExpectedkWh\r\n",
    "# df_rp[\"CUSUMT\"] = df_rp.ResidualsT.cumsum()\r\n",
    "\r\n",
    "print(\r\n",
    "    \"Cumulative performance against actual: {0:,.0f} kWh\".format(\r\n",
    "        df_rp[\"CUSUM\"].tail(1).values[0]\r\n",
    "    )\r\n",
    ")"
   ],
   "outputs": [],
   "metadata": {}
  },
  {
   "cell_type": "code",
   "execution_count": null,
   "source": [
    "# create cumulative energy plot\r\n",
    "traceE = go.Scatter(\r\n",
    "    x=df_rp.index, y=df_rp.CUSUM, name=\"Cumulative energy performance [kWh]\"\r\n",
    ")\r\n",
    "\r\n",
    "layout = go.Layout(\r\n",
    "    legend=dict(orientation=\"h\"),\r\n",
    "    title=\"Cumulative energy performance\",\r\n",
    "    xaxis=dict(\r\n",
    "        title=\"\",\r\n",
    "        titlefont=dict(\r\n",
    "            # size=18,\r\n",
    "            color=\"#7f7f7f\"\r\n",
    "        ),\r\n",
    "    ),\r\n",
    "    yaxis=dict(\r\n",
    "        title=\"Cumulative energy [kWh]\",\r\n",
    "        titlefont=dict(\r\n",
    "            # size=18,\r\n",
    "            color=\"#7f7f7f\"\r\n",
    "        ),\r\n",
    "    ),\r\n",
    ")\r\n",
    "data = [traceE]\r\n",
    "fig = go.Figure(data=data, layout=layout)\r\n",
    "fig.show()"
   ],
   "outputs": [],
   "metadata": {}
  },
  {
   "cell_type": "code",
   "execution_count": null,
   "source": [
    "# calculate additional daily energy per day\r\n",
    "no_of_days = len(df_rp.index)\r\n",
    "additional_energy = df_rp[\"CUSUM\"].tail(1).values[0]\r\n",
    "additional_energy_per_day = additional_energy / no_of_days\r\n",
    "print(additional_energy_per_day)"
   ],
   "outputs": [],
   "metadata": {}
  },
  {
   "cell_type": "code",
   "execution_count": null,
   "source": [
    "print(f\"Additional energy is {additional_energy_per_day:0.2f} kWh per day\")\r\n",
    "print(f\"Over a year, that equates to {additional_energy_per_day*365:0.0f} kWh per annum\")\r\n",
    "print(f\"That is approximately a reduction of {additional_energy_per_day*365*1.04:0.0f} kg CO2e and saving R {additional_energy_per_day*365*1.80:0.0f} per annum\")"
   ],
   "outputs": [],
   "metadata": {}
  },
  {
   "cell_type": "markdown",
   "source": [
    "- The results from the energy model is about 70% of the average estimates using in the EDA notebook.\r\n",
    "- Thus, using proper models to estimate savings and adjusting for the various factors is important to ensure savings are realistic to motivate for interventions.\r\n",
    "- Another important note is that we have a few months of data only and don't cover all the seasonal variations and thus the baseline may not be representative."
   ],
   "metadata": {}
  }
 ],
 "metadata": {
  "orig_nbformat": 4,
  "language_info": {
   "name": "python",
   "version": "3.8.7",
   "mimetype": "text/x-python",
   "codemirror_mode": {
    "name": "ipython",
    "version": 3
   },
   "pygments_lexer": "ipython3",
   "nbconvert_exporter": "python",
   "file_extension": ".py"
  },
  "kernelspec": {
   "name": "python3",
   "display_name": "Python 3.8.7 64-bit ('project04-qxpK7Mej': pipenv)"
  },
  "interpreter": {
   "hash": "acb383213824f3b0082df090227488a6f666fdac1c205be069573f23ae1ca0c8"
  }
 },
 "nbformat": 4,
 "nbformat_minor": 2
}