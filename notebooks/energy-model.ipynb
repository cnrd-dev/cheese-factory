{
 "cells": [
  {
   "cell_type": "markdown",
   "source": [
    "# Energy modeling for DP cold room\r\n",
    "- This analysis will look at the Dispatch (DP) cold room to build an energy model and estimate potential savings using a 4 dC setpoint instead of 2 dC.\r\n",
    "- The results will also be compared with the basic estimate used in EDA."
   ],
   "metadata": {}
  },
  {
   "cell_type": "code",
   "execution_count": 1,
   "source": [
    "# import libraries\r\n",
    "import sys\r\n",
    "import os\r\n",
    "import numpy as np\r\n",
    "import pandas as pd\r\n",
    "import math\r\n",
    "from scipy import stats\r\n",
    "import sklearn.metrics as sklm\r\n",
    "import sklearn.model_selection as ms\r\n",
    "from sklearn import preprocessing\r\n",
    "import joblib\r\n",
    "import json\r\n",
    "from sklearn.model_selection import (\r\n",
    "    GridSearchCV,\r\n",
    "    StratifiedKFold,\r\n",
    "    KFold,\r\n",
    "    cross_val_score,\r\n",
    "    cross_val_predict,\r\n",
    ")\r\n",
    "import plotly.io as pio\r\n",
    "from plotly.subplots import make_subplots\r\n",
    "import plotly.figure_factory as ff\r\n",
    "import plotly.graph_objects as go\r\n",
    "import seaborn as sns\r\n",
    "import matplotlib.pyplot as plt\r\n",
    "import statsmodels.formula.api as smf\r\n",
    "import statsmodels.api as sm\r\n",
    "import xgboost as xgb\r\n",
    "import colorlover as cl\r\n",
    "from sqlalchemy import create_engine\r\n",
    "\r\n",
    "#SHapley Additive exPlanations (SHAP)\r\n",
    "import shap\r\n",
    "\r\n",
    "# configs\r\n",
    "pd.options.display.float_format = \"{:,.2f}\".format\r\n",
    "%matplotlib inline\r\n",
    "plt.rcParams[\"figure.figsize\"] = 10, 6\r\n",
    "pio.templates.default = \"plotly_white\""
   ],
   "outputs": [],
   "metadata": {}
  },
  {
   "cell_type": "code",
   "execution_count": 2,
   "source": [
    "# load custom functions\r\n",
    "sys.path.append(\"../\")\r\n",
    "from cnrdlib import cl_ml as clml"
   ],
   "outputs": [],
   "metadata": {}
  },
  {
   "cell_type": "code",
   "execution_count": 3,
   "source": [
    "# load daily data from eda notebook\r\n",
    "engine = create_engine(f\"sqlite:///../data/RawData.db\")\r\n",
    "df = pd.read_sql_table(\"DailyDataEnergy\", con=engine, index_col=\"timestamp\")\r\n",
    "df.head()"
   ],
   "outputs": [
    {
     "output_type": "execute_result",
     "data": {
      "text/html": [
       "<div>\n",
       "<style scoped>\n",
       "    .dataframe tbody tr th:only-of-type {\n",
       "        vertical-align: middle;\n",
       "    }\n",
       "\n",
       "    .dataframe tbody tr th {\n",
       "        vertical-align: top;\n",
       "    }\n",
       "\n",
       "    .dataframe thead th {\n",
       "        text-align: right;\n",
       "    }\n",
       "</style>\n",
       "<table border=\"1\" class=\"dataframe\">\n",
       "  <thead>\n",
       "    <tr style=\"text-align: right;\">\n",
       "      <th></th>\n",
       "      <th>CDD_calc</th>\n",
       "      <th>WIP_energy</th>\n",
       "      <th>DP_energy</th>\n",
       "      <th>WIP_temp</th>\n",
       "      <th>DP_temp</th>\n",
       "      <th>Ext_temp</th>\n",
       "      <th>DP_setpoint</th>\n",
       "    </tr>\n",
       "    <tr>\n",
       "      <th>timestamp</th>\n",
       "      <th></th>\n",
       "      <th></th>\n",
       "      <th></th>\n",
       "      <th></th>\n",
       "      <th></th>\n",
       "      <th></th>\n",
       "      <th></th>\n",
       "    </tr>\n",
       "  </thead>\n",
       "  <tbody>\n",
       "    <tr>\n",
       "      <th>2021-03-30</th>\n",
       "      <td>15.32</td>\n",
       "      <td>110.54</td>\n",
       "      <td>71.60</td>\n",
       "      <td>4.43</td>\n",
       "      <td>3.40</td>\n",
       "      <td>19.32</td>\n",
       "      <td>low</td>\n",
       "    </tr>\n",
       "    <tr>\n",
       "      <th>2021-03-31</th>\n",
       "      <td>19.23</td>\n",
       "      <td>168.87</td>\n",
       "      <td>65.99</td>\n",
       "      <td>6.68</td>\n",
       "      <td>5.37</td>\n",
       "      <td>23.23</td>\n",
       "      <td>high</td>\n",
       "    </tr>\n",
       "    <tr>\n",
       "      <th>2021-04-01</th>\n",
       "      <td>20.87</td>\n",
       "      <td>217.91</td>\n",
       "      <td>79.20</td>\n",
       "      <td>6.81</td>\n",
       "      <td>5.01</td>\n",
       "      <td>24.87</td>\n",
       "      <td>high</td>\n",
       "    </tr>\n",
       "    <tr>\n",
       "      <th>2021-04-02</th>\n",
       "      <td>18.14</td>\n",
       "      <td>180.26</td>\n",
       "      <td>67.72</td>\n",
       "      <td>4.66</td>\n",
       "      <td>3.03</td>\n",
       "      <td>22.14</td>\n",
       "      <td>low</td>\n",
       "    </tr>\n",
       "    <tr>\n",
       "      <th>2021-04-03</th>\n",
       "      <td>16.73</td>\n",
       "      <td>81.34</td>\n",
       "      <td>65.36</td>\n",
       "      <td>5.87</td>\n",
       "      <td>2.94</td>\n",
       "      <td>20.73</td>\n",
       "      <td>low</td>\n",
       "    </tr>\n",
       "  </tbody>\n",
       "</table>\n",
       "</div>"
      ],
      "text/plain": [
       "            CDD_calc  WIP_energy  DP_energy  WIP_temp  DP_temp  Ext_temp  \\\n",
       "timestamp                                                                  \n",
       "2021-03-30     15.32      110.54      71.60      4.43     3.40     19.32   \n",
       "2021-03-31     19.23      168.87      65.99      6.68     5.37     23.23   \n",
       "2021-04-01     20.87      217.91      79.20      6.81     5.01     24.87   \n",
       "2021-04-02     18.14      180.26      67.72      4.66     3.03     22.14   \n",
       "2021-04-03     16.73       81.34      65.36      5.87     2.94     20.73   \n",
       "\n",
       "           DP_setpoint  \n",
       "timestamp               \n",
       "2021-03-30         low  \n",
       "2021-03-31        high  \n",
       "2021-04-01        high  \n",
       "2021-04-02         low  \n",
       "2021-04-03         low  "
      ]
     },
     "metadata": {},
     "execution_count": 3
    }
   ],
   "metadata": {}
  },
  {
   "cell_type": "code",
   "execution_count": 4,
   "source": [
    "# add day of the week\r\n",
    "df[\"day_of_week\"] = df.index.dayofweek\r\n",
    "df.head()"
   ],
   "outputs": [
    {
     "output_type": "execute_result",
     "data": {
      "text/html": [
       "<div>\n",
       "<style scoped>\n",
       "    .dataframe tbody tr th:only-of-type {\n",
       "        vertical-align: middle;\n",
       "    }\n",
       "\n",
       "    .dataframe tbody tr th {\n",
       "        vertical-align: top;\n",
       "    }\n",
       "\n",
       "    .dataframe thead th {\n",
       "        text-align: right;\n",
       "    }\n",
       "</style>\n",
       "<table border=\"1\" class=\"dataframe\">\n",
       "  <thead>\n",
       "    <tr style=\"text-align: right;\">\n",
       "      <th></th>\n",
       "      <th>CDD_calc</th>\n",
       "      <th>WIP_energy</th>\n",
       "      <th>DP_energy</th>\n",
       "      <th>WIP_temp</th>\n",
       "      <th>DP_temp</th>\n",
       "      <th>Ext_temp</th>\n",
       "      <th>DP_setpoint</th>\n",
       "      <th>day_of_week</th>\n",
       "    </tr>\n",
       "    <tr>\n",
       "      <th>timestamp</th>\n",
       "      <th></th>\n",
       "      <th></th>\n",
       "      <th></th>\n",
       "      <th></th>\n",
       "      <th></th>\n",
       "      <th></th>\n",
       "      <th></th>\n",
       "      <th></th>\n",
       "    </tr>\n",
       "  </thead>\n",
       "  <tbody>\n",
       "    <tr>\n",
       "      <th>2021-03-30</th>\n",
       "      <td>15.32</td>\n",
       "      <td>110.54</td>\n",
       "      <td>71.60</td>\n",
       "      <td>4.43</td>\n",
       "      <td>3.40</td>\n",
       "      <td>19.32</td>\n",
       "      <td>low</td>\n",
       "      <td>1</td>\n",
       "    </tr>\n",
       "    <tr>\n",
       "      <th>2021-03-31</th>\n",
       "      <td>19.23</td>\n",
       "      <td>168.87</td>\n",
       "      <td>65.99</td>\n",
       "      <td>6.68</td>\n",
       "      <td>5.37</td>\n",
       "      <td>23.23</td>\n",
       "      <td>high</td>\n",
       "      <td>2</td>\n",
       "    </tr>\n",
       "    <tr>\n",
       "      <th>2021-04-01</th>\n",
       "      <td>20.87</td>\n",
       "      <td>217.91</td>\n",
       "      <td>79.20</td>\n",
       "      <td>6.81</td>\n",
       "      <td>5.01</td>\n",
       "      <td>24.87</td>\n",
       "      <td>high</td>\n",
       "      <td>3</td>\n",
       "    </tr>\n",
       "    <tr>\n",
       "      <th>2021-04-02</th>\n",
       "      <td>18.14</td>\n",
       "      <td>180.26</td>\n",
       "      <td>67.72</td>\n",
       "      <td>4.66</td>\n",
       "      <td>3.03</td>\n",
       "      <td>22.14</td>\n",
       "      <td>low</td>\n",
       "      <td>4</td>\n",
       "    </tr>\n",
       "    <tr>\n",
       "      <th>2021-04-03</th>\n",
       "      <td>16.73</td>\n",
       "      <td>81.34</td>\n",
       "      <td>65.36</td>\n",
       "      <td>5.87</td>\n",
       "      <td>2.94</td>\n",
       "      <td>20.73</td>\n",
       "      <td>low</td>\n",
       "      <td>5</td>\n",
       "    </tr>\n",
       "  </tbody>\n",
       "</table>\n",
       "</div>"
      ],
      "text/plain": [
       "            CDD_calc  WIP_energy  DP_energy  WIP_temp  DP_temp  Ext_temp  \\\n",
       "timestamp                                                                  \n",
       "2021-03-30     15.32      110.54      71.60      4.43     3.40     19.32   \n",
       "2021-03-31     19.23      168.87      65.99      6.68     5.37     23.23   \n",
       "2021-04-01     20.87      217.91      79.20      6.81     5.01     24.87   \n",
       "2021-04-02     18.14      180.26      67.72      4.66     3.03     22.14   \n",
       "2021-04-03     16.73       81.34      65.36      5.87     2.94     20.73   \n",
       "\n",
       "           DP_setpoint  day_of_week  \n",
       "timestamp                            \n",
       "2021-03-30         low            1  \n",
       "2021-03-31        high            2  \n",
       "2021-04-01        high            3  \n",
       "2021-04-02         low            4  \n",
       "2021-04-03         low            5  "
      ]
     },
     "metadata": {},
     "execution_count": 4
    }
   ],
   "metadata": {}
  },
  {
   "cell_type": "code",
   "execution_count": 5,
   "source": [
    "len(df[df.DP_setpoint == \"high\"])"
   ],
   "outputs": [
    {
     "output_type": "execute_result",
     "data": {
      "text/plain": [
       "53"
      ]
     },
     "metadata": {},
     "execution_count": 5
    }
   ],
   "metadata": {}
  },
  {
   "cell_type": "code",
   "execution_count": 6,
   "source": [
    "len(df[df.DP_setpoint == \"low\"])"
   ],
   "outputs": [
    {
     "output_type": "execute_result",
     "data": {
      "text/plain": [
       "61"
      ]
     },
     "metadata": {},
     "execution_count": 6
    }
   ],
   "metadata": {}
  },
  {
   "cell_type": "markdown",
   "source": [
    "- Good split of data with 53 days at the high setpoint and 61 days at the low setpoint."
   ],
   "metadata": {}
  },
  {
   "cell_type": "markdown",
   "source": [
    "# Create baseline model\r\n",
    "- The high setpoint will be used as the baseline.\r\n",
    "- The low setpoint will be used as the reporting period to calculate the additional energy used."
   ],
   "metadata": {}
  },
  {
   "cell_type": "code",
   "execution_count": 7,
   "source": [
    "df_bl = df[df.DP_setpoint == \"high\"]\r\n",
    "df_rp = df[df.DP_setpoint == \"low\"]"
   ],
   "outputs": [],
   "metadata": {}
  },
  {
   "cell_type": "code",
   "execution_count": 44,
   "source": [
    "# basic scatter plot to visually check the baseline data\r\n",
    "sns.lmplot(\r\n",
    "    data=df_bl,\r\n",
    "    x=\"Ext_temp\",\r\n",
    "    y=\"DP_energy\",\r\n",
    "    lowess=True,\r\n",
    "    line_kws={\"color\": \"red\"},\r\n",
    "    aspect=1.6,\r\n",
    ")\r\n",
    "sns.kdeplot(data=df_bl, x=\"Ext_temp\", y=\"DP_energy\")\r\n",
    "plt.show()"
   ],
   "outputs": [
    {
     "output_type": "display_data",
     "data": {
      "image/png": "[encoded data removed]",
      "text/plain": [
       "<Figure size 576x360 with 1 Axes>"
      ]
     },
     "metadata": {
      "needs_background": "light"
     }
    }
   ],
   "metadata": {}
  },
  {
   "cell_type": "code",
   "execution_count": 41,
   "source": [
    "# interactive scatter plot to zoom in and identify outliers\r\n",
    "scl = cl.scales[\"9\"][\"seq\"][\"Blues\"]\r\n",
    "colorscale = [[float(i) / float(len(scl) - 1), scl[i]] for i in range(len(scl))]\r\n",
    "\r\n",
    "trace = go.Scatter(\r\n",
    "    x=df_bl.Ext_temp,\r\n",
    "    y=df_bl.DP_energy,\r\n",
    "    text=df_bl.index,\r\n",
    "    mode=\"markers+text\",\r\n",
    "    textposition=\"top center\",\r\n",
    "    hoverinfo=\"text\",\r\n",
    "    marker=dict(opacity=0.5, sizemin=5, sizemode=\"area\"),\r\n",
    ")\r\n",
    "trace_c = go.Histogram2dContour(\r\n",
    "    x=df_bl.Ext_temp,\r\n",
    "    y=df_bl.DP_energy,\r\n",
    "    ncontours=5,\r\n",
    "    colorscale=colorscale,\r\n",
    "    showscale=False,\r\n",
    "    opacity=0.3,\r\n",
    ")\r\n",
    "data = [trace, trace_c]\r\n",
    "layout = go.Layout(title=\"Scatter plot\")\r\n",
    "fig = go.Figure(data=data, layout=layout)\r\n",
    "fig.show()"
   ],
   "outputs": [
    {
     "output_type": "display_data",
     "data": {
      "application/vnd.plotly.v1+json": {
       "config": {
        "plotlyServerURL": "https://plot.ly"
       },
       "data": [
        {
         "hoverinfo": "text",
         "marker": {
          "opacity": 0.5,
          "sizemin": 5,
          "sizemode": "area"
         },
         "mode": "markers+text",
         "text": [
          "2021-03-31T00:00:00",
          "2021-04-01T00:00:00",
          "2021-04-08T00:00:00",
          "2021-04-10T00:00:00",
          "2021-05-21T00:00:00",
          "2021-06-02T00:00:00",
          "2021-06-03T00:00:00",
          "2021-06-04T00:00:00",
          "2021-06-05T00:00:00",
          "2021-06-06T00:00:00",
          "2021-06-07T00:00:00",
          "2021-06-08T00:00:00",
          "2021-06-09T00:00:00",
          "2021-06-10T00:00:00",
          "2021-06-11T00:00:00",
          "2021-06-12T00:00:00",
          "2021-06-13T00:00:00",
          "2021-06-14T00:00:00",
          "2021-06-15T00:00:00",
          "2021-06-16T00:00:00",
          "2021-06-17T00:00:00",
          "2021-06-19T00:00:00",
          "2021-06-20T00:00:00",
          "2021-06-21T00:00:00",
          "2021-06-22T00:00:00",
          "2021-06-23T00:00:00",
          "2021-06-24T00:00:00",
          "2021-06-25T00:00:00",
          "2021-06-26T00:00:00",
          "2021-06-27T00:00:00",
          "2021-06-28T00:00:00",
          "2021-06-29T00:00:00",
          "2021-06-30T00:00:00",
          "2021-07-01T00:00:00",
          "2021-07-02T00:00:00",
          "2021-07-03T00:00:00",
          "2021-07-04T00:00:00",
          "2021-07-05T00:00:00",
          "2021-07-06T00:00:00",
          "2021-07-07T00:00:00",
          "2021-07-09T00:00:00",
          "2021-07-12T00:00:00",
          "2021-07-14T00:00:00",
          "2021-07-15T00:00:00",
          "2021-07-16T00:00:00",
          "2021-07-20T00:00:00",
          "2021-07-21T00:00:00",
          "2021-07-22T00:00:00",
          "2021-07-23T00:00:00",
          "2021-07-24T00:00:00",
          "2021-07-25T00:00:00",
          "2021-07-26T00:00:00",
          "2021-07-27T00:00:00"
         ],
         "textposition": "top center",
         "type": "scatter",
         "x": [
          23.234663194444447,
          24.867795717592596,
          23.353395833333334,
          23.44258159722222,
          22.322836805555553,
          14.641784722222221,
          14.828893126177023,
          14.879684027777778,
          13.689503472222222,
          13.739425670903955,
          13.389162698412699,
          14.922863425925925,
          15.819675636574074,
          16.399868055555554,
          16.7137912547081,
          17.410567208097927,
          19.625933262711865,
          20.798957097457627,
          18.747003825329568,
          17.145925553201504,
          20.36415277777778,
          14.830409982174688,
          16.21252177495292,
          16.12472222222222,
          17.707420845103577,
          19.066760416666668,
          19.166738700564974,
          20.215135416666666,
          21.016180555555554,
          17.716324623352165,
          19.62258204266511,
          22.833186951754385,
          24.342420138888887,
          23.02520138888889,
          18.409489583333333,
          20.93385615079365,
          21.835657760144617,
          16.669859757532958,
          14.395138888888889,
          16.22278125,
          18.296354166666667,
          17.656381944444444,
          13.412319444444444,
          12.93548611111111,
          12.621494429590017,
          17.705258445258444,
          18.721074370552817,
          15.570097222222223,
          12.227538194444444,
          12.273871527777779,
          12.770715277777777,
          13.368331744350284,
          14.14195138888889
         ],
         "y": [
          65.98625042284642,
          79.1996330210875,
          79.67803844451907,
          85.45337037451823,
          73.65593401908724,
          54.02597579186708,
          45.84285556348639,
          47.58020067302373,
          48.300863712782956,
          46.489857369151046,
          45.30514327702797,
          45.3263926536855,
          49.93456290199538,
          49.5376461389329,
          51.64035293257017,
          49.18396425077867,
          56.36551743942863,
          54.49753528448175,
          54.873006371795185,
          55.551268807785114,
          56.77092413819955,
          38.136153230235585,
          51.00130124011224,
          49.89824757006335,
          55.28189737944066,
          56.127701090046735,
          56.56765642892596,
          60.815617844288425,
          56.05978160437926,
          51.71062800733593,
          53.125895382454495,
          54.57576047245425,
          60.42532617556489,
          56.26216596774099,
          56.56971756938697,
          52.90128014697762,
          52.25265887380788,
          53.18282211899659,
          48.640755589757575,
          58.99725028472436,
          57.295435310752936,
          51.21958582988746,
          45.859884509676135,
          45.21803555516399,
          47.92756827373392,
          48.356072832274215,
          51.21451477002308,
          55.49012164077524,
          48.42276544861965,
          45.49839973263382,
          43.263829024264986,
          46.96441042291146,
          47.33551385543848
         ]
        },
        {
         "colorscale": [
          [
           0,
           "rgb(247,251,255)"
          ],
          [
           0.125,
           "rgb(222,235,247)"
          ],
          [
           0.25,
           "rgb(198,219,239)"
          ],
          [
           0.375,
           "rgb(158,202,225)"
          ],
          [
           0.5,
           "rgb(107,174,214)"
          ],
          [
           0.625,
           "rgb(66,146,198)"
          ],
          [
           0.75,
           "rgb(33,113,181)"
          ],
          [
           0.875,
           "rgb(8,81,156)"
          ],
          [
           1,
           "rgb(8,48,107)"
          ]
         ],
         "ncontours": 5,
         "opacity": 0.3,
         "showscale": false,
         "type": "histogram2dcontour",
         "x": [
          23.234663194444447,
          24.867795717592596,
          23.353395833333334,
          23.44258159722222,
          22.322836805555553,
          14.641784722222221,
          14.828893126177023,
          14.879684027777778,
          13.689503472222222,
          13.739425670903955,
          13.389162698412699,
          14.922863425925925,
          15.819675636574074,
          16.399868055555554,
          16.7137912547081,
          17.410567208097927,
          19.625933262711865,
          20.798957097457627,
          18.747003825329568,
          17.145925553201504,
          20.36415277777778,
          14.830409982174688,
          16.21252177495292,
          16.12472222222222,
          17.707420845103577,
          19.066760416666668,
          19.166738700564974,
          20.215135416666666,
          21.016180555555554,
          17.716324623352165,
          19.62258204266511,
          22.833186951754385,
          24.342420138888887,
          23.02520138888889,
          18.409489583333333,
          20.93385615079365,
          21.835657760144617,
          16.669859757532958,
          14.395138888888889,
          16.22278125,
          18.296354166666667,
          17.656381944444444,
          13.412319444444444,
          12.93548611111111,
          12.621494429590017,
          17.705258445258444,
          18.721074370552817,
          15.570097222222223,
          12.227538194444444,
          12.273871527777779,
          12.770715277777777,
          13.368331744350284,
          14.14195138888889
         ],
         "y": [
          65.98625042284642,
          79.1996330210875,
          79.67803844451907,
          85.45337037451823,
          73.65593401908724,
          54.02597579186708,
          45.84285556348639,
          47.58020067302373,
          48.300863712782956,
          46.489857369151046,
          45.30514327702797,
          45.3263926536855,
          49.93456290199538,
          49.5376461389329,
          51.64035293257017,
          49.18396425077867,
          56.36551743942863,
          54.49753528448175,
          54.873006371795185,
          55.551268807785114,
          56.77092413819955,
          38.136153230235585,
          51.00130124011224,
          49.89824757006335,
          55.28189737944066,
          56.127701090046735,
          56.56765642892596,
          60.815617844288425,
          56.05978160437926,
          51.71062800733593,
          53.125895382454495,
          54.57576047245425,
          60.42532617556489,
          56.26216596774099,
          56.56971756938697,
          52.90128014697762,
          52.25265887380788,
          53.18282211899659,
          48.640755589757575,
          58.99725028472436,
          57.295435310752936,
          51.21958582988746,
          45.859884509676135,
          45.21803555516399,
          47.92756827373392,
          48.356072832274215,
          51.21451477002308,
          55.49012164077524,
          48.42276544861965,
          45.49839973263382,
          43.263829024264986,
          46.96441042291146,
          47.33551385543848
         ]
        }
       ],
       "layout": {
        "template": {
         "data": {
          "bar": [
           {
            "error_x": {
             "color": "#2a3f5f"
            },
            "error_y": {
             "color": "#2a3f5f"
            },
            "marker": {
             "line": {
              "color": "white",
              "width": 0.5
             },
             "pattern": {
              "fillmode": "overlay",
              "size": 10,
              "solidity": 0.2
             }
            },
            "type": "bar"
           }
          ],
          "barpolar": [
           {
            "marker": {
             "line": {
              "color": "white",
              "width": 0.5
             },
             "pattern": {
              "fillmode": "overlay",
              "size": 10,
              "solidity": 0.2
             }
            },
            "type": "barpolar"
           }
          ],
          "carpet": [
           {
            "aaxis": {
             "endlinecolor": "#2a3f5f",
             "gridcolor": "#C8D4E3",
             "linecolor": "#C8D4E3",
             "minorgridcolor": "#C8D4E3",
             "startlinecolor": "#2a3f5f"
            },
            "baxis": {
             "endlinecolor": "#2a3f5f",
             "gridcolor": "#C8D4E3",
             "linecolor": "#C8D4E3",
             "minorgridcolor": "#C8D4E3",
             "startlinecolor": "#2a3f5f"
            },
            "type": "carpet"
           }
          ],
          "choropleth": [
           {
            "colorbar": {
             "outlinewidth": 0,
             "ticks": ""
            },
            "type": "choropleth"
           }
          ],
          "contour": [
           {
            "colorbar": {
             "outlinewidth": 0,
             "ticks": ""
            },
            "colorscale": [
             [
              0,
              "#0d0887"
             ],
             [
              0.1111111111111111,
              "#46039f"
             ],
             [
              0.2222222222222222,
              "#7201a8"
             ],
             [
              0.3333333333333333,
              "#9c179e"
             ],
             [
              0.4444444444444444,
              "#bd3786"
             ],
             [
              0.5555555555555556,
              "#d8576b"
             ],
             [
              0.6666666666666666,
              "#ed7953"
             ],
             [
              0.7777777777777778,
              "#fb9f3a"
             ],
             [
              0.8888888888888888,
              "#fdca26"
             ],
             [
              1,
              "#f0f921"
             ]
            ],
            "type": "contour"
           }
          ],
          "contourcarpet": [
           {
            "colorbar": {
             "outlinewidth": 0,
             "ticks": ""
            },
            "type": "contourcarpet"
           }
          ],
          "heatmap": [
           {
            "colorbar": {
             "outlinewidth": 0,
             "ticks": ""
            },
            "colorscale": [
             [
              0,
              "#0d0887"
             ],
             [
              0.1111111111111111,
              "#46039f"
             ],
             [
              0.2222222222222222,
              "#7201a8"
             ],
             [
              0.3333333333333333,
              "#9c179e"
             ],
             [
              0.4444444444444444,
              "#bd3786"
             ],
             [
              0.5555555555555556,
              "#d8576b"
             ],
             [
              0.6666666666666666,
              "#ed7953"
             ],
             [
              0.7777777777777778,
              "#fb9f3a"
             ],
             [
              0.8888888888888888,
              "#fdca26"
             ],
             [
              1,
              "#f0f921"
             ]
            ],
            "type": "heatmap"
           }
          ],
          "heatmapgl": [
           {
            "colorbar": {
             "outlinewidth": 0,
             "ticks": ""
            },
            "colorscale": [
             [
              0,
              "#0d0887"
             ],
             [
              0.1111111111111111,
              "#46039f"
             ],
             [
              0.2222222222222222,
              "#7201a8"
             ],
             [
              0.3333333333333333,
              "#9c179e"
             ],
             [
              0.4444444444444444,
              "#bd3786"
             ],
             [
              0.5555555555555556,
              "#d8576b"
             ],
             [
              0.6666666666666666,
              "#ed7953"
             ],
             [
              0.7777777777777778,
              "#fb9f3a"
             ],
             [
              0.8888888888888888,
              "#fdca26"
             ],
             [
              1,
              "#f0f921"
             ]
            ],
            "type": "heatmapgl"
           }
          ],
          "histogram": [
           {
            "marker": {
             "pattern": {
              "fillmode": "overlay",
              "size": 10,
              "solidity": 0.2
             }
            },
            "type": "histogram"
           }
          ],
          "histogram2d": [
           {
            "colorbar": {
             "outlinewidth": 0,
             "ticks": ""
            },
            "colorscale": [
             [
              0,
              "#0d0887"
             ],
             [
              0.1111111111111111,
              "#46039f"
             ],
             [
              0.2222222222222222,
              "#7201a8"
             ],
             [
              0.3333333333333333,
              "#9c179e"
             ],
             [
              0.4444444444444444,
              "#bd3786"
             ],
             [
              0.5555555555555556,
              "#d8576b"
             ],
             [
              0.6666666666666666,
              "#ed7953"
             ],
             [
              0.7777777777777778,
              "#fb9f3a"
             ],
             [
              0.8888888888888888,
              "#fdca26"
             ],
             [
              1,
              "#f0f921"
             ]
            ],
            "type": "histogram2d"
           }
          ],
          "histogram2dcontour": [
           {
            "colorbar": {
             "outlinewidth": 0,
             "ticks": ""
            },
            "colorscale": [
             [
              0,
              "#0d0887"
             ],
             [
              0.1111111111111111,
              "#46039f"
             ],
             [
              0.2222222222222222,
              "#7201a8"
             ],
             [
              0.3333333333333333,
              "#9c179e"
             ],
             [
              0.4444444444444444,
              "#bd3786"
             ],
             [
              0.5555555555555556,
              "#d8576b"
             ],
             [
              0.6666666666666666,
              "#ed7953"
             ],
             [
              0.7777777777777778,
              "#fb9f3a"
             ],
             [
              0.8888888888888888,
              "#fdca26"
             ],
             [
              1,
              "#f0f921"
             ]
            ],
            "type": "histogram2dcontour"
           }
          ],
          "mesh3d": [
           {
            "colorbar": {
             "outlinewidth": 0,
             "ticks": ""
            },
            "type": "mesh3d"
           }
          ],
          "parcoords": [
           {
            "line": {
             "colorbar": {
              "outlinewidth": 0,
              "ticks": ""
             }
            },
            "type": "parcoords"
           }
          ],
          "pie": [
           {
            "automargin": true,
            "type": "pie"
           }
          ],
          "scatter": [
           {
            "marker": {
             "colorbar": {
              "outlinewidth": 0,
              "ticks": ""
             }
            },
            "type": "scatter"
           }
          ],
          "scatter3d": [
           {
            "line": {
             "colorbar": {
              "outlinewidth": 0,
              "ticks": ""
             }
            },
            "marker": {
             "colorbar": {
              "outlinewidth": 0,
              "ticks": ""
             }
            },
            "type": "scatter3d"
           }
          ],
          "scattercarpet": [
           {
            "marker": {
             "colorbar": {
              "outlinewidth": 0,
              "ticks": ""
             }
            },
            "type": "scattercarpet"
           }
          ],
          "scattergeo": [
           {
            "marker": {
             "colorbar": {
              "outlinewidth": 0,
              "ticks": ""
             }
            },
            "type": "scattergeo"
           }
          ],
          "scattergl": [
           {
            "marker": {
             "colorbar": {
              "outlinewidth": 0,
              "ticks": ""
             }
            },
            "type": "scattergl"
           }
          ],
          "scattermapbox": [
           {
            "marker": {
             "colorbar": {
              "outlinewidth": 0,
              "ticks": ""
             }
            },
            "type": "scattermapbox"
           }
          ],
          "scatterpolar": [
           {
            "marker": {
             "colorbar": {
              "outlinewidth": 0,
              "ticks": ""
             }
            },
            "type": "scatterpolar"
           }
          ],
          "scatterpolargl": [
           {
            "marker": {
             "colorbar": {
              "outlinewidth": 0,
              "ticks": ""
             }
            },
            "type": "scatterpolargl"
           }
          ],
          "scatterternary": [
           {
            "marker": {
             "colorbar": {
              "outlinewidth": 0,
              "ticks": ""
             }
            },
            "type": "scatterternary"
           }
          ],
          "surface": [
           {
            "colorbar": {
             "outlinewidth": 0,
             "ticks": ""
            },
            "colorscale": [
             [
              0,
              "#0d0887"
             ],
             [
              0.1111111111111111,
              "#46039f"
             ],
             [
              0.2222222222222222,
              "#7201a8"
             ],
             [
              0.3333333333333333,
              "#9c179e"
             ],
             [
              0.4444444444444444,
              "#bd3786"
             ],
             [
              0.5555555555555556,
              "#d8576b"
             ],
             [
              0.6666666666666666,
              "#ed7953"
             ],
             [
              0.7777777777777778,
              "#fb9f3a"
             ],
             [
              0.8888888888888888,
              "#fdca26"
             ],
             [
              1,
              "#f0f921"
             ]
            ],
            "type": "surface"
           }
          ],
          "table": [
           {
            "cells": {
             "fill": {
              "color": "#EBF0F8"
             },
             "line": {
              "color": "white"
             }
            },
            "header": {
             "fill": {
              "color": "#C8D4E3"
             },
             "line": {
              "color": "white"
             }
            },
            "type": "table"
           }
          ]
         },
         "layout": {
          "annotationdefaults": {
           "arrowcolor": "#2a3f5f",
           "arrowhead": 0,
           "arrowwidth": 1
          },
          "autotypenumbers": "strict",
          "coloraxis": {
           "colorbar": {
            "outlinewidth": 0,
            "ticks": ""
           }
          },
          "colorscale": {
           "diverging": [
            [
             0,
             "#8e0152"
            ],
            [
             0.1,
             "#c51b7d"
            ],
            [
             0.2,
             "#de77ae"
            ],
            [
             0.3,
             "#f1b6da"
            ],
            [
             0.4,
             "#fde0ef"
            ],
            [
             0.5,
             "#f7f7f7"
            ],
            [
             0.6,
             "#e6f5d0"
            ],
            [
             0.7,
             "#b8e186"
            ],
            [
             0.8,
             "#7fbc41"
            ],
            [
             0.9,
             "#4d9221"
            ],
            [
             1,
             "#276419"
            ]
           ],
           "sequential": [
            [
             0,
             "#0d0887"
            ],
            [
             0.1111111111111111,
             "#46039f"
            ],
            [
             0.2222222222222222,
             "#7201a8"
            ],
            [
             0.3333333333333333,
             "#9c179e"
            ],
            [
             0.4444444444444444,
             "#bd3786"
            ],
            [
             0.5555555555555556,
             "#d8576b"
            ],
            [
             0.6666666666666666,
             "#ed7953"
            ],
            [
             0.7777777777777778,
             "#fb9f3a"
            ],
            [
             0.8888888888888888,
             "#fdca26"
            ],
            [
             1,
             "#f0f921"
            ]
           ],
           "sequentialminus": [
            [
             0,
             "#0d0887"
            ],
            [
             0.1111111111111111,
             "#46039f"
            ],
            [
             0.2222222222222222,
             "#7201a8"
            ],
            [
             0.3333333333333333,
             "#9c179e"
            ],
            [
             0.4444444444444444,
             "#bd3786"
            ],
            [
             0.5555555555555556,
             "#d8576b"
            ],
            [
             0.6666666666666666,
             "#ed7953"
            ],
            [
             0.7777777777777778,
             "#fb9f3a"
            ],
            [
             0.8888888888888888,
             "#fdca26"
            ],
            [
             1,
             "#f0f921"
            ]
           ]
          },
          "colorway": [
           "#636efa",
           "#EF553B",
           "#00cc96",
           "#ab63fa",
           "#FFA15A",
           "#19d3f3",
           "#FF6692",
           "#B6E880",
           "#FF97FF",
           "#FECB52"
          ],
          "font": {
           "color": "#2a3f5f"
          },
          "geo": {
           "bgcolor": "white",
           "lakecolor": "white",
           "landcolor": "white",
           "showlakes": true,
           "showland": true,
           "subunitcolor": "#C8D4E3"
          },
          "hoverlabel": {
           "align": "left"
          },
          "hovermode": "closest",
          "mapbox": {
           "style": "light"
          },
          "paper_bgcolor": "white",
          "plot_bgcolor": "white",
          "polar": {
           "angularaxis": {
            "gridcolor": "#EBF0F8",
            "linecolor": "#EBF0F8",
            "ticks": ""
           },
           "bgcolor": "white",
           "radialaxis": {
            "gridcolor": "#EBF0F8",
            "linecolor": "#EBF0F8",
            "ticks": ""
           }
          },
          "scene": {
           "xaxis": {
            "backgroundcolor": "white",
            "gridcolor": "#DFE8F3",
            "gridwidth": 2,
            "linecolor": "#EBF0F8",
            "showbackground": true,
            "ticks": "",
            "zerolinecolor": "#EBF0F8"
           },
           "yaxis": {
            "backgroundcolor": "white",
            "gridcolor": "#DFE8F3",
            "gridwidth": 2,
            "linecolor": "#EBF0F8",
            "showbackground": true,
            "ticks": "",
            "zerolinecolor": "#EBF0F8"
           },
           "zaxis": {
            "backgroundcolor": "white",
            "gridcolor": "#DFE8F3",
            "gridwidth": 2,
            "linecolor": "#EBF0F8",
            "showbackground": true,
            "ticks": "",
            "zerolinecolor": "#EBF0F8"
           }
          },
          "shapedefaults": {
           "line": {
            "color": "#2a3f5f"
           }
          },
          "ternary": {
           "aaxis": {
            "gridcolor": "#DFE8F3",
            "linecolor": "#A2B1C6",
            "ticks": ""
           },
           "baxis": {
            "gridcolor": "#DFE8F3",
            "linecolor": "#A2B1C6",
            "ticks": ""
           },
           "bgcolor": "white",
           "caxis": {
            "gridcolor": "#DFE8F3",
            "linecolor": "#A2B1C6",
            "ticks": ""
           }
          },
          "title": {
           "x": 0.05
          },
          "xaxis": {
           "automargin": true,
           "gridcolor": "#EBF0F8",
           "linecolor": "#EBF0F8",
           "ticks": "",
           "title": {
            "standoff": 15
           },
           "zerolinecolor": "#EBF0F8",
           "zerolinewidth": 2
          },
          "yaxis": {
           "automargin": true,
           "gridcolor": "#EBF0F8",
           "linecolor": "#EBF0F8",
           "ticks": "",
           "title": {
            "standoff": 15
           },
           "zerolinecolor": "#EBF0F8",
           "zerolinewidth": 2
          }
         }
        },
        "title": {
         "text": "Scatter plot"
        }
       }
      }
     },
     "metadata": {}
    }
   ],
   "metadata": {}
  },
  {
   "cell_type": "code",
   "execution_count": 42,
   "source": [
    "# remove some outliers\r\n",
    "df_bl.drop([\"2021-05-21\", \"2021-04-10\", \"2021-04-08\", \"2021-04-01\"], inplace=True)"
   ],
   "outputs": [],
   "metadata": {}
  },
  {
   "cell_type": "code",
   "execution_count": 45,
   "source": [
    "# basic scatter plot to visually check the baseline data again :-)\r\n",
    "sns.lmplot(\r\n",
    "    data=df_bl,\r\n",
    "    x=\"Ext_temp\",\r\n",
    "    y=\"DP_energy\",\r\n",
    "    lowess=True,\r\n",
    "    line_kws={\"color\": \"red\"},\r\n",
    "    aspect=1.6,\r\n",
    ")\r\n",
    "sns.kdeplot(data=df_bl, x=\"Ext_temp\", y=\"DP_energy\")\r\n",
    "plt.show()"
   ],
   "outputs": [
    {
     "output_type": "display_data",
     "data": {
      "image/png": "[encoded data removed]",
      "text/plain": [
       "<Figure size 576x360 with 1 Axes>"
      ]
     },
     "metadata": {
      "needs_background": "light"
     }
    }
   ],
   "metadata": {}
  },
  {
   "cell_type": "code",
   "execution_count": 40,
   "source": [
    "# basic scatter plot to visually check the reporting period data\r\n",
    "sns.lmplot(\r\n",
    "    data=df_rp,\r\n",
    "    x=\"Ext_temp\",\r\n",
    "    y=\"DP_energy\",\r\n",
    "    lowess=True,\r\n",
    "    line_kws={\"color\": \"red\"},\r\n",
    "    aspect=1.6,\r\n",
    ")\r\n",
    "sns.kdeplot(data=df_rp, x=\"Ext_temp\", y=\"DP_energy\")\r\n",
    "plt.show()"
   ],
   "outputs": [
    {
     "output_type": "display_data",
     "data": {
      "image/png": "[encoded data removed]",
      "text/plain": [
       "<Figure size 576x360 with 1 Axes>"
      ]
     },
     "metadata": {
      "needs_background": "light"
     }
    }
   ],
   "metadata": {}
  },
  {
   "cell_type": "code",
   "execution_count": 46,
   "source": [
    "# feat_cols = [\"DP_temp\", \"Ext_temp\", \"CDD_calc\"]\r\n",
    "feat_cols = [\"DP_temp\", \"Ext_temp\"]\r\n",
    "print(feat_cols)\r\n",
    "\r\n",
    "feat_labs_cols = feat_cols + [\"DP_energy\"]\r\n",
    "print(feat_labs_cols)"
   ],
   "outputs": [
    {
     "output_type": "stream",
     "name": "stdout",
     "text": [
      "['DP_temp', 'Ext_temp']\n",
      "['DP_temp', 'Ext_temp', 'DP_energy']\n"
     ]
    }
   ],
   "metadata": {}
  },
  {
   "cell_type": "code",
   "execution_count": 47,
   "source": [
    "# split features into numpy array\r\n",
    "features = np.array(df_bl[feat_cols])\r\n",
    "print(features.shape)"
   ],
   "outputs": [
    {
     "output_type": "stream",
     "name": "stdout",
     "text": [
      "(49, 2)\n"
     ]
    }
   ],
   "metadata": {}
  },
  {
   "cell_type": "code",
   "execution_count": 48,
   "source": [
    "p = features.shape[1]\r\n",
    "print(p)"
   ],
   "outputs": [
    {
     "output_type": "stream",
     "name": "stdout",
     "text": [
      "2\n"
     ]
    }
   ],
   "metadata": {}
  },
  {
   "cell_type": "code",
   "execution_count": 49,
   "source": [
    "label = np.array(df_bl[\"DP_energy\"])"
   ],
   "outputs": [],
   "metadata": {}
  },
  {
   "cell_type": "code",
   "execution_count": 50,
   "source": [
    "# train-test split\r\n",
    "np.random.seed(4256)\r\n",
    "\r\n",
    "indx = range(features.shape[0])\r\n",
    "indx = ms.train_test_split(\r\n",
    "    indx,\r\n",
    "    test_size=0.25,\r\n",
    ")\r\n",
    "\r\n",
    "x_train = features[indx[0], :]\r\n",
    "y_train = np.ravel(label[indx[0]])\r\n",
    "x_test = features[indx[1], :]\r\n",
    "y_test = np.ravel(label[indx[1]])"
   ],
   "outputs": [],
   "metadata": {}
  },
  {
   "cell_type": "code",
   "execution_count": 51,
   "source": [
    "# scale features\r\n",
    "scaler = preprocessing.StandardScaler().fit(x_train[:, :])\r\n",
    "x_train[:, :] = scaler.transform(x_train[:, :])\r\n",
    "x_test[:, :] = scaler.transform(x_test[:, :])\r\n",
    "\r\n",
    "# save scaler model\r\n",
    "joblib.dump(scaler, \"../models/model_feature_scaling.pkl\")\r\n",
    "\r\n",
    "x_train[:5, :]"
   ],
   "outputs": [
    {
     "output_type": "execute_result",
     "data": {
      "text/plain": [
       "array([[ 0.26901268,  0.44403095],\n",
       "       [ 0.20011668, -0.62769961],\n",
       "       [ 0.33735586,  0.3301704 ],\n",
       "       [ 1.82065469, -0.86061074],\n",
       "       [-2.48135725, -1.02407222]])"
      ]
     },
     "metadata": {},
     "execution_count": 51
    }
   ],
   "metadata": {}
  },
  {
   "cell_type": "markdown",
   "source": [
    "# Linear model\r\n",
    "Base reference"
   ],
   "metadata": {}
  },
  {
   "cell_type": "code",
   "execution_count": 52,
   "source": [
    "x_train_constant = sm.add_constant(x_train)\r\n",
    "x_test_constant = sm.add_constant(x_test)"
   ],
   "outputs": [],
   "metadata": {}
  },
  {
   "cell_type": "code",
   "execution_count": 53,
   "source": [
    "model_lin = sm.OLS(y_train, x_train_constant)\r\n",
    "model_lin_fit = model_lin.fit()\r\n",
    "model_lin_fit.summary()"
   ],
   "outputs": [
    {
     "output_type": "execute_result",
     "data": {
      "text/html": [
       "<table class=\"simpletable\">\n",
       "<caption>OLS Regression Results</caption>\n",
       "<tr>\n",
       "  <th>Dep. Variable:</th>            <td>y</td>        <th>  R-squared:         </th> <td>   0.562</td>\n",
       "</tr>\n",
       "<tr>\n",
       "  <th>Model:</th>                   <td>OLS</td>       <th>  Adj. R-squared:    </th> <td>   0.536</td>\n",
       "</tr>\n",
       "<tr>\n",
       "  <th>Method:</th>             <td>Least Squares</td>  <th>  F-statistic:       </th> <td>   21.18</td>\n",
       "</tr>\n",
       "<tr>\n",
       "  <th>Date:</th>             <td>Tue, 14 Sep 2021</td> <th>  Prob (F-statistic):</th> <td>1.21e-06</td>\n",
       "</tr>\n",
       "<tr>\n",
       "  <th>Time:</th>                 <td>22:10:56</td>     <th>  Log-Likelihood:    </th> <td> -93.470</td>\n",
       "</tr>\n",
       "<tr>\n",
       "  <th>No. Observations:</th>      <td>    36</td>      <th>  AIC:               </th> <td>   192.9</td>\n",
       "</tr>\n",
       "<tr>\n",
       "  <th>Df Residuals:</th>          <td>    33</td>      <th>  BIC:               </th> <td>   197.7</td>\n",
       "</tr>\n",
       "<tr>\n",
       "  <th>Df Model:</th>              <td>     2</td>      <th>                     </th>     <td> </td>   \n",
       "</tr>\n",
       "<tr>\n",
       "  <th>Covariance Type:</th>      <td>nonrobust</td>    <th>                     </th>     <td> </td>   \n",
       "</tr>\n",
       "</table>\n",
       "<table class=\"simpletable\">\n",
       "<tr>\n",
       "    <td></td>       <th>coef</th>     <th>std err</th>      <th>t</th>      <th>P>|t|</th>  <th>[0.025</th>    <th>0.975]</th>  \n",
       "</tr>\n",
       "<tr>\n",
       "  <th>const</th> <td>   52.0345</td> <td>    0.565</td> <td>   92.086</td> <td> 0.000</td> <td>   50.885</td> <td>   53.184</td>\n",
       "</tr>\n",
       "<tr>\n",
       "  <th>x1</th>    <td>   -0.8570</td> <td>    0.569</td> <td>   -1.507</td> <td> 0.141</td> <td>   -2.014</td> <td>    0.300</td>\n",
       "</tr>\n",
       "<tr>\n",
       "  <th>x2</th>    <td>    3.6737</td> <td>    0.569</td> <td>    6.460</td> <td> 0.000</td> <td>    2.517</td> <td>    4.831</td>\n",
       "</tr>\n",
       "</table>\n",
       "<table class=\"simpletable\">\n",
       "<tr>\n",
       "  <th>Omnibus:</th>       <td> 4.680</td> <th>  Durbin-Watson:     </th> <td>   1.822</td>\n",
       "</tr>\n",
       "<tr>\n",
       "  <th>Prob(Omnibus):</th> <td> 0.096</td> <th>  Jarque-Bera (JB):  </th> <td>   3.891</td>\n",
       "</tr>\n",
       "<tr>\n",
       "  <th>Skew:</th>          <td>-0.364</td> <th>  Prob(JB):          </th> <td>   0.143</td>\n",
       "</tr>\n",
       "<tr>\n",
       "  <th>Kurtosis:</th>      <td> 4.437</td> <th>  Cond. No.          </th> <td>    1.12</td>\n",
       "</tr>\n",
       "</table><br/><br/>Notes:<br/>[1] Standard Errors assume that the covariance matrix of the errors is correctly specified."
      ],
      "text/plain": [
       "<class 'statsmodels.iolib.summary.Summary'>\n",
       "\"\"\"\n",
       "                            OLS Regression Results                            \n",
       "==============================================================================\n",
       "Dep. Variable:                      y   R-squared:                       0.562\n",
       "Model:                            OLS   Adj. R-squared:                  0.536\n",
       "Method:                 Least Squares   F-statistic:                     21.18\n",
       "Date:                Tue, 14 Sep 2021   Prob (F-statistic):           1.21e-06\n",
       "Time:                        22:10:56   Log-Likelihood:                -93.470\n",
       "No. Observations:                  36   AIC:                             192.9\n",
       "Df Residuals:                      33   BIC:                             197.7\n",
       "Df Model:                           2                                         \n",
       "Covariance Type:            nonrobust                                         \n",
       "==============================================================================\n",
       "                 coef    std err          t      P>|t|      [0.025      0.975]\n",
       "------------------------------------------------------------------------------\n",
       "const         52.0345      0.565     92.086      0.000      50.885      53.184\n",
       "x1            -0.8570      0.569     -1.507      0.141      -2.014       0.300\n",
       "x2             3.6737      0.569      6.460      0.000       2.517       4.831\n",
       "==============================================================================\n",
       "Omnibus:                        4.680   Durbin-Watson:                   1.822\n",
       "Prob(Omnibus):                  0.096   Jarque-Bera (JB):                3.891\n",
       "Skew:                          -0.364   Prob(JB):                        0.143\n",
       "Kurtosis:                       4.437   Cond. No.                         1.12\n",
       "==============================================================================\n",
       "\n",
       "Notes:\n",
       "[1] Standard Errors assume that the covariance matrix of the errors is correctly specified.\n",
       "\"\"\""
      ]
     },
     "metadata": {},
     "execution_count": 53
    }
   ],
   "metadata": {}
  },
  {
   "cell_type": "code",
   "execution_count": 54,
   "source": [
    "y_hat = model_lin_fit.predict(x_train_constant)"
   ],
   "outputs": [],
   "metadata": {}
  },
  {
   "cell_type": "code",
   "execution_count": 55,
   "source": [
    "clml.regression_metrics(y_train, y_hat, p)"
   ],
   "outputs": [
    {
     "output_type": "stream",
     "name": "stdout",
     "text": [
      "Root Mean Square Error = 3.25\n",
      "Mean Absolute Error    = 2.42\n",
      "Median Absolute Error  = 1.63\n",
      "R^2                    = 0.5621\n",
      "Adjusted R^2           = 0.5492\n"
     ]
    }
   ],
   "metadata": {}
  },
  {
   "cell_type": "code",
   "execution_count": 56,
   "source": [
    "clml.diagnostic_plots(x_train, y_train, y_hat)"
   ],
   "outputs": [
    {
     "output_type": "display_data",
     "data": {
      "image/png": "[encoded data removed]",
      "text/plain": [
       "<Figure size 1296x720 with 4 Axes>"
      ]
     },
     "metadata": {
      "needs_background": "light"
     }
    }
   ],
   "metadata": {}
  },
  {
   "cell_type": "code",
   "execution_count": 57,
   "source": [
    "y_score = model_lin_fit.predict(x_test_constant)\r\n",
    "clml.regression_metrics(y_test, y_score, p)"
   ],
   "outputs": [
    {
     "output_type": "stream",
     "name": "stdout",
     "text": [
      "Root Mean Square Error = 3.83\n",
      "Mean Absolute Error    = 3.04\n",
      "Median Absolute Error  = 2.49\n",
      "R^2                    = 0.5743\n",
      "Adjusted R^2           = 0.5356\n"
     ]
    }
   ],
   "metadata": {}
  },
  {
   "cell_type": "code",
   "execution_count": 58,
   "source": [
    "clml.diagnostic_plots(x_test, y_test, y_score)"
   ],
   "outputs": [
    {
     "output_type": "display_data",
     "data": {
      "image/png": "[encoded data removed]",
      "text/plain": [
       "<Figure size 1296x720 with 4 Axes>"
      ]
     },
     "metadata": {
      "needs_background": "light"
     }
    }
   ],
   "metadata": {}
  },
  {
   "cell_type": "markdown",
   "source": [
    "# XGBoost"
   ],
   "metadata": {}
  },
  {
   "cell_type": "code",
   "execution_count": 59,
   "source": [
    "# set up parameter grid\r\n",
    "xgbm_param_grid = {\r\n",
    "    \"learning_rate\": [0.01, 0.1, 0.3, 0.6, 0.9],\r\n",
    "    \"n_estimators\": [25, 50, 100, 150],\r\n",
    "    \"subsample\": [0.3, 0.5, 0.9],\r\n",
    "    \"colsample_bytree\": [0.3, 0.5, 0.7],\r\n",
    "    \"gamma\": [0.3, 0.5, 0.7],\r\n",
    "    \"max_depth\": [3, 5, 7, 9],\r\n",
    "    \"objective\": [\"reg:squarederror\"],\r\n",
    "}"
   ],
   "outputs": [],
   "metadata": {}
  },
  {
   "cell_type": "code",
   "execution_count": 60,
   "source": [
    "k_fold = KFold(n_splits=3)\r\n",
    "model_xgb = xgb.XGBRegressor()"
   ],
   "outputs": [],
   "metadata": {}
  },
  {
   "cell_type": "code",
   "execution_count": 61,
   "source": [
    "grid_mse = GridSearchCV(\r\n",
    "    estimator=model_xgb,\r\n",
    "    param_grid=xgbm_param_grid,\r\n",
    "    scoring=\"neg_mean_squared_error\",\r\n",
    "    cv=k_fold,\r\n",
    "    verbose=1,\r\n",
    "    n_jobs=8,\r\n",
    ")"
   ],
   "outputs": [],
   "metadata": {}
  },
  {
   "cell_type": "code",
   "execution_count": 62,
   "source": [
    "grid_mse.fit(x_train, y_train)"
   ],
   "outputs": [
    {
     "output_type": "stream",
     "name": "stdout",
     "text": [
      "Fitting 3 folds for each of 2160 candidates, totalling 6480 fits\n"
     ]
    },
    {
     "output_type": "execute_result",
     "data": {
      "text/plain": [
       "GridSearchCV(cv=KFold(n_splits=3, random_state=None, shuffle=False),\n",
       "             estimator=XGBRegressor(base_score=None, booster=None,\n",
       "                                    colsample_bylevel=None,\n",
       "                                    colsample_bynode=None,\n",
       "                                    colsample_bytree=None, gamma=None,\n",
       "                                    gpu_id=None, importance_type='gain',\n",
       "                                    interaction_constraints=None,\n",
       "                                    learning_rate=None, max_delta_step=None,\n",
       "                                    max_depth=None, min_child_weight=None,\n",
       "                                    missing=nan, mo...\n",
       "                                    scale_pos_weight=None, subsample=None,\n",
       "                                    tree_method=None, validate_parameters=None,\n",
       "                                    verbosity=None),\n",
       "             n_jobs=8,\n",
       "             param_grid={'colsample_bytree': [0.3, 0.5, 0.7],\n",
       "                         'gamma': [0.3, 0.5, 0.7],\n",
       "                         'learning_rate': [0.01, 0.1, 0.3, 0.6, 0.9],\n",
       "                         'max_depth': [3, 5, 7, 9],\n",
       "                         'n_estimators': [25, 50, 100, 150],\n",
       "                         'objective': ['reg:squarederror'],\n",
       "                         'subsample': [0.3, 0.5, 0.9]},\n",
       "             scoring='neg_mean_squared_error', verbose=1)"
      ]
     },
     "metadata": {},
     "execution_count": 62
    }
   ],
   "metadata": {}
  },
  {
   "cell_type": "code",
   "execution_count": 63,
   "source": [
    "# print the best parameters and lowest RMSE\r\n",
    "print(f\"Best parameters found: {grid_mse.best_params_}\")\r\n",
    "print(f\"Lowest RMSE found: {np.sqrt(np.abs(grid_mse.best_score_)):0.2f}\")"
   ],
   "outputs": [
    {
     "output_type": "stream",
     "name": "stdout",
     "text": [
      "Best parameters found: {'colsample_bytree': 0.3, 'gamma': 0.5, 'learning_rate': 0.3, 'max_depth': 5, 'n_estimators': 25, 'objective': 'reg:squarederror', 'subsample': 0.3}\n",
      "Lowest RMSE found: 3.90\n"
     ]
    }
   ],
   "metadata": {}
  },
  {
   "cell_type": "code",
   "execution_count": 64,
   "source": [
    "# use best parameters\r\n",
    "model_xgb = xgb.XGBRegressor(\r\n",
    "    colsample_bytree=0.3,\r\n",
    "    gamma=0.5,\r\n",
    "    learning_rate=0.3,\r\n",
    "    max_depth=5,\r\n",
    "    n_estimators=25,\r\n",
    "    subsample=0.3,\r\n",
    ")"
   ],
   "outputs": [],
   "metadata": {}
  },
  {
   "cell_type": "code",
   "execution_count": 65,
   "source": [
    "# fit model\r\n",
    "model_xgb_fit = model_xgb.fit(x_train, y_train)"
   ],
   "outputs": [],
   "metadata": {}
  },
  {
   "cell_type": "code",
   "execution_count": 66,
   "source": [
    "y_hat = model_xgb_fit.predict(x_train)\r\n",
    "clml.regression_metrics(y_train, y_hat, p)"
   ],
   "outputs": [
    {
     "output_type": "stream",
     "name": "stdout",
     "text": [
      "Root Mean Square Error = 1.97\n",
      "Mean Absolute Error    = 1.45\n",
      "Median Absolute Error  = 1.09\n",
      "R^2                    = 0.8385\n",
      "Adjusted R^2           = 0.8338\n"
     ]
    }
   ],
   "metadata": {}
  },
  {
   "cell_type": "code",
   "execution_count": 67,
   "source": [
    "clml.diagnostic_plots(x_train, y_train, y_hat)"
   ],
   "outputs": [
    {
     "output_type": "display_data",
     "data": {
      "image/png": "[encoded data removed]",
      "text/plain": [
       "<Figure size 1296x720 with 4 Axes>"
      ]
     },
     "metadata": {
      "needs_background": "light"
     }
    }
   ],
   "metadata": {}
  },
  {
   "cell_type": "code",
   "execution_count": 68,
   "source": [
    "y_score = model_xgb_fit.predict(x_test)\r\n",
    "clml.regression_metrics(y_test, y_score, p)"
   ],
   "outputs": [
    {
     "output_type": "stream",
     "name": "stdout",
     "text": [
      "Root Mean Square Error = 3.49\n",
      "Mean Absolute Error    = 2.77\n",
      "Median Absolute Error  = 2.13\n",
      "R^2                    = 0.6468\n",
      "Adjusted R^2           = 0.6147\n"
     ]
    }
   ],
   "metadata": {}
  },
  {
   "cell_type": "code",
   "execution_count": 69,
   "source": [
    "clml.diagnostic_plots(x_test, y_test, y_score)"
   ],
   "outputs": [
    {
     "output_type": "display_data",
     "data": {
      "image/png": "[encoded data removed]",
      "text/plain": [
       "<Figure size 1296x720 with 4 Axes>"
      ]
     },
     "metadata": {
      "needs_background": "light"
     }
    }
   ],
   "metadata": {}
  },
  {
   "cell_type": "code",
   "execution_count": 70,
   "source": [
    "#explain the model's predictions using SHAP values\r\n",
    "explainer = shap.TreeExplainer(model_xgb_fit)\r\n",
    "shap_values = explainer.shap_values(x_train)"
   ],
   "outputs": [],
   "metadata": {}
  },
  {
   "cell_type": "code",
   "execution_count": 71,
   "source": [
    "#summarize the effects of all the features\r\n",
    "shap.summary_plot(shap_values, x_train, feature_names=feat_cols)"
   ],
   "outputs": [
    {
     "output_type": "display_data",
     "data": {
      "image/png": "[encoded data removed]",
      "text/plain": [
       "<Figure size 576x165.6 with 2 Axes>"
      ]
     },
     "metadata": {
      "needs_background": "light"
     }
    }
   ],
   "metadata": {}
  },
  {
   "cell_type": "code",
   "execution_count": 72,
   "source": [
    "shap.summary_plot(shap_values, x_train, plot_type='bar', feature_names=feat_cols)"
   ],
   "outputs": [
    {
     "output_type": "display_data",
     "data": {
      "image/png": "[encoded data removed]",
      "text/plain": [
       "<Figure size 576x165.6 with 1 Axes>"
      ]
     },
     "metadata": {
      "needs_background": "light"
     }
    }
   ],
   "metadata": {}
  },
  {
   "cell_type": "code",
   "execution_count": 73,
   "source": [
    "# save model model\r\n",
    "joblib.dump(model_xgb_fit, \"../models/model_predict_xgboost.pkl\")"
   ],
   "outputs": [
    {
     "output_type": "execute_result",
     "data": {
      "text/plain": [
       "['../models/model_predict_xgboost.pkl']"
      ]
     },
     "metadata": {},
     "execution_count": 73
    }
   ],
   "metadata": {}
  },
  {
   "cell_type": "code",
   "execution_count": 74,
   "source": [
    "SEmodel = math.sqrt(sklm.mean_squared_error(y_test, y_score))\r\n",
    "print(f\"Standard error of the model is {SEmodel:0.2f}\")"
   ],
   "outputs": [
    {
     "output_type": "stream",
     "name": "stdout",
     "text": [
      "Standard error of the model is 3.49\n"
     ]
    }
   ],
   "metadata": {}
  },
  {
   "cell_type": "markdown",
   "source": [
    "## Calculate energy performance"
   ],
   "metadata": {}
  },
  {
   "cell_type": "code",
   "execution_count": 75,
   "source": [
    "# split features into numpy array\r\n",
    "features_rp = np.array(df_rp[feat_cols])\r\n",
    "print(features_rp.shape)"
   ],
   "outputs": [
    {
     "output_type": "stream",
     "name": "stdout",
     "text": [
      "(61, 2)\n"
     ]
    }
   ],
   "metadata": {}
  },
  {
   "cell_type": "code",
   "execution_count": 76,
   "source": [
    "# import models for reporting period\r\n",
    "scaler = joblib.load(\"../models/model_feature_scaling.pkl\")\r\n",
    "model_opt = joblib.load(\"../models/model_predict_xgboost.pkl\")"
   ],
   "outputs": [],
   "metadata": {}
  },
  {
   "cell_type": "code",
   "execution_count": 77,
   "source": [
    "x_rp = scaler.transform(features_rp[:, :])\r\n",
    "x_rp[:5, :]"
   ],
   "outputs": [
    {
     "output_type": "execute_result",
     "data": {
      "text/plain": [
       "array([[-3.77353152,  0.63884176],\n",
       "       [-5.10850596,  1.58730962],\n",
       "       [-5.42987273,  1.11289194],\n",
       "       [-5.52687393,  0.72255045],\n",
       "       [-5.80471721,  0.93460677]])"
      ]
     },
     "metadata": {},
     "execution_count": 77
    }
   ],
   "metadata": {}
  },
  {
   "cell_type": "code",
   "execution_count": 78,
   "source": [
    "# predict expected consumption\r\n",
    "y_rp = model_opt.predict(x_rp)"
   ],
   "outputs": [],
   "metadata": {}
  },
  {
   "cell_type": "code",
   "execution_count": 79,
   "source": [
    "df_rp[\"ExpectedkWh\"] = y_rp\r\n",
    "\r\n",
    "df_rp[\"Residuals\"] = df_rp.DP_energy - df_rp.ExpectedkWh\r\n",
    "df_rp[\"CUSUM\"] = df_rp.Residuals.cumsum()\r\n",
    "\r\n",
    "df_rp[\"TargetkWh\"] = df_rp.ExpectedkWh * 0.97\r\n",
    "df_rp[\"ResidualsT\"] = df_rp.TargetkWh - df_rp.ExpectedkWh\r\n",
    "df_rp[\"CUSUMT\"] = df_rp.ResidualsT.cumsum()\r\n",
    "\r\n",
    "print(\r\n",
    "    \"Cumulative performance against actual: {0:,.0f} kWh\".format(\r\n",
    "        df_rp[\"CUSUM\"].tail(1).values[0]\r\n",
    "    )\r\n",
    ")"
   ],
   "outputs": [
    {
     "output_type": "stream",
     "name": "stdout",
     "text": [
      "Cumulative performance against actual: 419 kWh\n"
     ]
    }
   ],
   "metadata": {}
  },
  {
   "cell_type": "code",
   "execution_count": 80,
   "source": [
    "traceE = go.Scatter(\r\n",
    "    x=df_rp.index, y=df_rp.CUSUM, name=\"Cumulative energy performance [kWh]\"\r\n",
    ")\r\n",
    "\r\n",
    "layout = go.Layout(\r\n",
    "    legend=dict(orientation=\"h\"),\r\n",
    "    title=\"Cumulative energy performance\",\r\n",
    "    xaxis=dict(\r\n",
    "        title=\"\",\r\n",
    "        titlefont=dict(\r\n",
    "            # size=18,\r\n",
    "            color=\"#7f7f7f\"\r\n",
    "        ),\r\n",
    "    ),\r\n",
    "    yaxis=dict(\r\n",
    "        title=\"Cumulative energy [kWh]\",\r\n",
    "        titlefont=dict(\r\n",
    "            # size=18,\r\n",
    "            color=\"#7f7f7f\"\r\n",
    "        ),\r\n",
    "    ),\r\n",
    ")\r\n",
    "data = [traceE]\r\n",
    "fig = go.Figure(data=data, layout=layout)\r\n",
    "fig.show()"
   ],
   "outputs": [
    {
     "output_type": "display_data",
     "data": {
      "application/vnd.plotly.v1+json": {
       "config": {
        "plotlyServerURL": "https://plot.ly"
       },
       "data": [
        {
         "name": "Cumulative energy performance [kWh]",
         "type": "scatter",
         "x": [
          "2021-03-30T00:00:00",
          "2021-04-02T00:00:00",
          "2021-04-03T00:00:00",
          "2021-04-04T00:00:00",
          "2021-04-05T00:00:00",
          "2021-04-06T00:00:00",
          "2021-04-07T00:00:00",
          "2021-04-09T00:00:00",
          "2021-04-11T00:00:00",
          "2021-04-12T00:00:00",
          "2021-04-13T00:00:00",
          "2021-04-14T00:00:00",
          "2021-04-15T00:00:00",
          "2021-04-16T00:00:00",
          "2021-04-17T00:00:00",
          "2021-04-18T00:00:00",
          "2021-04-19T00:00:00",
          "2021-04-20T00:00:00",
          "2021-04-21T00:00:00",
          "2021-04-22T00:00:00",
          "2021-04-23T00:00:00",
          "2021-04-24T00:00:00",
          "2021-04-25T00:00:00",
          "2021-04-26T00:00:00",
          "2021-04-27T00:00:00",
          "2021-04-28T00:00:00",
          "2021-04-29T00:00:00",
          "2021-05-05T00:00:00",
          "2021-05-06T00:00:00",
          "2021-05-07T00:00:00",
          "2021-05-08T00:00:00",
          "2021-05-09T00:00:00",
          "2021-05-10T00:00:00",
          "2021-05-11T00:00:00",
          "2021-05-12T00:00:00",
          "2021-05-13T00:00:00",
          "2021-05-14T00:00:00",
          "2021-05-15T00:00:00",
          "2021-05-16T00:00:00",
          "2021-05-17T00:00:00",
          "2021-05-18T00:00:00",
          "2021-05-19T00:00:00",
          "2021-05-20T00:00:00",
          "2021-05-22T00:00:00",
          "2021-05-23T00:00:00",
          "2021-05-24T00:00:00",
          "2021-05-25T00:00:00",
          "2021-05-26T00:00:00",
          "2021-05-27T00:00:00",
          "2021-05-28T00:00:00",
          "2021-05-29T00:00:00",
          "2021-05-30T00:00:00",
          "2021-05-31T00:00:00",
          "2021-06-01T00:00:00",
          "2021-07-08T00:00:00",
          "2021-07-10T00:00:00",
          "2021-07-11T00:00:00",
          "2021-07-13T00:00:00",
          "2021-07-17T00:00:00",
          "2021-07-18T00:00:00",
          "2021-07-19T00:00:00"
         ],
         "y": [
          13.861415297676047,
          24.13652908390185,
          32.35533629935561,
          37.72180916640009,
          40.72425103672693,
          49.28684935371525,
          70.36405677266836,
          89.00850518600988,
          108.50086752519137,
          129.12242403010976,
          140.93199980869116,
          161.166994327625,
          179.40739377757865,
          196.1402250415856,
          207.7691403948253,
          220.5859712236141,
          222.25806961329317,
          225.5549910843683,
          233.33524156686383,
          241.94876535972924,
          252.00782296820597,
          258.47516677327036,
          274.0007414352741,
          280.75424951955085,
          291.5522470047338,
          300.89728768922544,
          310.3235551289265,
          314.2928840332014,
          316.72473455672787,
          327.47856665083754,
          327.84253002745015,
          330.05085616528004,
          329.27179337396785,
          334.3642937768229,
          349.5440385143334,
          357.70506740496353,
          368.12612956573776,
          367.9943408591567,
          369.68293177782783,
          373.4011099830631,
          381.0345226435269,
          392.4067171409897,
          404.63349281527474,
          404.37226138798223,
          401.91862717638134,
          400.2815760425277,
          405.80096026244786,
          407.5941015794382,
          411.38861132155466,
          418.80875112064854,
          418.1564632888441,
          419.87599936776803,
          426.3470253503114,
          431.2336995291512,
          429.96457219537376,
          425.16468394447446,
          422.4169004822963,
          419.4308960797473,
          419.33125810111403,
          420.5926598735657,
          419.0381511780988
         ]
        }
       ],
       "layout": {
        "legend": {
         "orientation": "h"
        },
        "template": {
         "data": {
          "bar": [
           {
            "error_x": {
             "color": "#2a3f5f"
            },
            "error_y": {
             "color": "#2a3f5f"
            },
            "marker": {
             "line": {
              "color": "white",
              "width": 0.5
             },
             "pattern": {
              "fillmode": "overlay",
              "size": 10,
              "solidity": 0.2
             }
            },
            "type": "bar"
           }
          ],
          "barpolar": [
           {
            "marker": {
             "line": {
              "color": "white",
              "width": 0.5
             },
             "pattern": {
              "fillmode": "overlay",
              "size": 10,
              "solidity": 0.2
             }
            },
            "type": "barpolar"
           }
          ],
          "carpet": [
           {
            "aaxis": {
             "endlinecolor": "#2a3f5f",
             "gridcolor": "#C8D4E3",
             "linecolor": "#C8D4E3",
             "minorgridcolor": "#C8D4E3",
             "startlinecolor": "#2a3f5f"
            },
            "baxis": {
             "endlinecolor": "#2a3f5f",
             "gridcolor": "#C8D4E3",
             "linecolor": "#C8D4E3",
             "minorgridcolor": "#C8D4E3",
             "startlinecolor": "#2a3f5f"
            },
            "type": "carpet"
           }
          ],
          "choropleth": [
           {
            "colorbar": {
             "outlinewidth": 0,
             "ticks": ""
            },
            "type": "choropleth"
           }
          ],
          "contour": [
           {
            "colorbar": {
             "outlinewidth": 0,
             "ticks": ""
            },
            "colorscale": [
             [
              0,
              "#0d0887"
             ],
             [
              0.1111111111111111,
              "#46039f"
             ],
             [
              0.2222222222222222,
              "#7201a8"
             ],
             [
              0.3333333333333333,
              "#9c179e"
             ],
             [
              0.4444444444444444,
              "#bd3786"
             ],
             [
              0.5555555555555556,
              "#d8576b"
             ],
             [
              0.6666666666666666,
              "#ed7953"
             ],
             [
              0.7777777777777778,
              "#fb9f3a"
             ],
             [
              0.8888888888888888,
              "#fdca26"
             ],
             [
              1,
              "#f0f921"
             ]
            ],
            "type": "contour"
           }
          ],
          "contourcarpet": [
           {
            "colorbar": {
             "outlinewidth": 0,
             "ticks": ""
            },
            "type": "contourcarpet"
           }
          ],
          "heatmap": [
           {
            "colorbar": {
             "outlinewidth": 0,
             "ticks": ""
            },
            "colorscale": [
             [
              0,
              "#0d0887"
             ],
             [
              0.1111111111111111,
              "#46039f"
             ],
             [
              0.2222222222222222,
              "#7201a8"
             ],
             [
              0.3333333333333333,
              "#9c179e"
             ],
             [
              0.4444444444444444,
              "#bd3786"
             ],
             [
              0.5555555555555556,
              "#d8576b"
             ],
             [
              0.6666666666666666,
              "#ed7953"
             ],
             [
              0.7777777777777778,
              "#fb9f3a"
             ],
             [
              0.8888888888888888,
              "#fdca26"
             ],
             [
              1,
              "#f0f921"
             ]
            ],
            "type": "heatmap"
           }
          ],
          "heatmapgl": [
           {
            "colorbar": {
             "outlinewidth": 0,
             "ticks": ""
            },
            "colorscale": [
             [
              0,
              "#0d0887"
             ],
             [
              0.1111111111111111,
              "#46039f"
             ],
             [
              0.2222222222222222,
              "#7201a8"
             ],
             [
              0.3333333333333333,
              "#9c179e"
             ],
             [
              0.4444444444444444,
              "#bd3786"
             ],
             [
              0.5555555555555556,
              "#d8576b"
             ],
             [
              0.6666666666666666,
              "#ed7953"
             ],
             [
              0.7777777777777778,
              "#fb9f3a"
             ],
             [
              0.8888888888888888,
              "#fdca26"
             ],
             [
              1,
              "#f0f921"
             ]
            ],
            "type": "heatmapgl"
           }
          ],
          "histogram": [
           {
            "marker": {
             "pattern": {
              "fillmode": "overlay",
              "size": 10,
              "solidity": 0.2
             }
            },
            "type": "histogram"
           }
          ],
          "histogram2d": [
           {
            "colorbar": {
             "outlinewidth": 0,
             "ticks": ""
            },
            "colorscale": [
             [
              0,
              "#0d0887"
             ],
             [
              0.1111111111111111,
              "#46039f"
             ],
             [
              0.2222222222222222,
              "#7201a8"
             ],
             [
              0.3333333333333333,
              "#9c179e"
             ],
             [
              0.4444444444444444,
              "#bd3786"
             ],
             [
              0.5555555555555556,
              "#d8576b"
             ],
             [
              0.6666666666666666,
              "#ed7953"
             ],
             [
              0.7777777777777778,
              "#fb9f3a"
             ],
             [
              0.8888888888888888,
              "#fdca26"
             ],
             [
              1,
              "#f0f921"
             ]
            ],
            "type": "histogram2d"
           }
          ],
          "histogram2dcontour": [
           {
            "colorbar": {
             "outlinewidth": 0,
             "ticks": ""
            },
            "colorscale": [
             [
              0,
              "#0d0887"
             ],
             [
              0.1111111111111111,
              "#46039f"
             ],
             [
              0.2222222222222222,
              "#7201a8"
             ],
             [
              0.3333333333333333,
              "#9c179e"
             ],
             [
              0.4444444444444444,
              "#bd3786"
             ],
             [
              0.5555555555555556,
              "#d8576b"
             ],
             [
              0.6666666666666666,
              "#ed7953"
             ],
             [
              0.7777777777777778,
              "#fb9f3a"
             ],
             [
              0.8888888888888888,
              "#fdca26"
             ],
             [
              1,
              "#f0f921"
             ]
            ],
            "type": "histogram2dcontour"
           }
          ],
          "mesh3d": [
           {
            "colorbar": {
             "outlinewidth": 0,
             "ticks": ""
            },
            "type": "mesh3d"
           }
          ],
          "parcoords": [
           {
            "line": {
             "colorbar": {
              "outlinewidth": 0,
              "ticks": ""
             }
            },
            "type": "parcoords"
           }
          ],
          "pie": [
           {
            "automargin": true,
            "type": "pie"
           }
          ],
          "scatter": [
           {
            "marker": {
             "colorbar": {
              "outlinewidth": 0,
              "ticks": ""
             }
            },
            "type": "scatter"
           }
          ],
          "scatter3d": [
           {
            "line": {
             "colorbar": {
              "outlinewidth": 0,
              "ticks": ""
             }
            },
            "marker": {
             "colorbar": {
              "outlinewidth": 0,
              "ticks": ""
             }
            },
            "type": "scatter3d"
           }
          ],
          "scattercarpet": [
           {
            "marker": {
             "colorbar": {
              "outlinewidth": 0,
              "ticks": ""
             }
            },
            "type": "scattercarpet"
           }
          ],
          "scattergeo": [
           {
            "marker": {
             "colorbar": {
              "outlinewidth": 0,
              "ticks": ""
             }
            },
            "type": "scattergeo"
           }
          ],
          "scattergl": [
           {
            "marker": {
             "colorbar": {
              "outlinewidth": 0,
              "ticks": ""
             }
            },
            "type": "scattergl"
           }
          ],
          "scattermapbox": [
           {
            "marker": {
             "colorbar": {
              "outlinewidth": 0,
              "ticks": ""
             }
            },
            "type": "scattermapbox"
           }
          ],
          "scatterpolar": [
           {
            "marker": {
             "colorbar": {
              "outlinewidth": 0,
              "ticks": ""
             }
            },
            "type": "scatterpolar"
           }
          ],
          "scatterpolargl": [
           {
            "marker": {
             "colorbar": {
              "outlinewidth": 0,
              "ticks": ""
             }
            },
            "type": "scatterpolargl"
           }
          ],
          "scatterternary": [
           {
            "marker": {
             "colorbar": {
              "outlinewidth": 0,
              "ticks": ""
             }
            },
            "type": "scatterternary"
           }
          ],
          "surface": [
           {
            "colorbar": {
             "outlinewidth": 0,
             "ticks": ""
            },
            "colorscale": [
             [
              0,
              "#0d0887"
             ],
             [
              0.1111111111111111,
              "#46039f"
             ],
             [
              0.2222222222222222,
              "#7201a8"
             ],
             [
              0.3333333333333333,
              "#9c179e"
             ],
             [
              0.4444444444444444,
              "#bd3786"
             ],
             [
              0.5555555555555556,
              "#d8576b"
             ],
             [
              0.6666666666666666,
              "#ed7953"
             ],
             [
              0.7777777777777778,
              "#fb9f3a"
             ],
             [
              0.8888888888888888,
              "#fdca26"
             ],
             [
              1,
              "#f0f921"
             ]
            ],
            "type": "surface"
           }
          ],
          "table": [
           {
            "cells": {
             "fill": {
              "color": "#EBF0F8"
             },
             "line": {
              "color": "white"
             }
            },
            "header": {
             "fill": {
              "color": "#C8D4E3"
             },
             "line": {
              "color": "white"
             }
            },
            "type": "table"
           }
          ]
         },
         "layout": {
          "annotationdefaults": {
           "arrowcolor": "#2a3f5f",
           "arrowhead": 0,
           "arrowwidth": 1
          },
          "autotypenumbers": "strict",
          "coloraxis": {
           "colorbar": {
            "outlinewidth": 0,
            "ticks": ""
           }
          },
          "colorscale": {
           "diverging": [
            [
             0,
             "#8e0152"
            ],
            [
             0.1,
             "#c51b7d"
            ],
            [
             0.2,
             "#de77ae"
            ],
            [
             0.3,
             "#f1b6da"
            ],
            [
             0.4,
             "#fde0ef"
            ],
            [
             0.5,
             "#f7f7f7"
            ],
            [
             0.6,
             "#e6f5d0"
            ],
            [
             0.7,
             "#b8e186"
            ],
            [
             0.8,
             "#7fbc41"
            ],
            [
             0.9,
             "#4d9221"
            ],
            [
             1,
             "#276419"
            ]
           ],
           "sequential": [
            [
             0,
             "#0d0887"
            ],
            [
             0.1111111111111111,
             "#46039f"
            ],
            [
             0.2222222222222222,
             "#7201a8"
            ],
            [
             0.3333333333333333,
             "#9c179e"
            ],
            [
             0.4444444444444444,
             "#bd3786"
            ],
            [
             0.5555555555555556,
             "#d8576b"
            ],
            [
             0.6666666666666666,
             "#ed7953"
            ],
            [
             0.7777777777777778,
             "#fb9f3a"
            ],
            [
             0.8888888888888888,
             "#fdca26"
            ],
            [
             1,
             "#f0f921"
            ]
           ],
           "sequentialminus": [
            [
             0,
             "#0d0887"
            ],
            [
             0.1111111111111111,
             "#46039f"
            ],
            [
             0.2222222222222222,
             "#7201a8"
            ],
            [
             0.3333333333333333,
             "#9c179e"
            ],
            [
             0.4444444444444444,
             "#bd3786"
            ],
            [
             0.5555555555555556,
             "#d8576b"
            ],
            [
             0.6666666666666666,
             "#ed7953"
            ],
            [
             0.7777777777777778,
             "#fb9f3a"
            ],
            [
             0.8888888888888888,
             "#fdca26"
            ],
            [
             1,
             "#f0f921"
            ]
           ]
          },
          "colorway": [
           "#636efa",
           "#EF553B",
           "#00cc96",
           "#ab63fa",
           "#FFA15A",
           "#19d3f3",
           "#FF6692",
           "#B6E880",
           "#FF97FF",
           "#FECB52"
          ],
          "font": {
           "color": "#2a3f5f"
          },
          "geo": {
           "bgcolor": "white",
           "lakecolor": "white",
           "landcolor": "white",
           "showlakes": true,
           "showland": true,
           "subunitcolor": "#C8D4E3"
          },
          "hoverlabel": {
           "align": "left"
          },
          "hovermode": "closest",
          "mapbox": {
           "style": "light"
          },
          "paper_bgcolor": "white",
          "plot_bgcolor": "white",
          "polar": {
           "angularaxis": {
            "gridcolor": "#EBF0F8",
            "linecolor": "#EBF0F8",
            "ticks": ""
           },
           "bgcolor": "white",
           "radialaxis": {
            "gridcolor": "#EBF0F8",
            "linecolor": "#EBF0F8",
            "ticks": ""
           }
          },
          "scene": {
           "xaxis": {
            "backgroundcolor": "white",
            "gridcolor": "#DFE8F3",
            "gridwidth": 2,
            "linecolor": "#EBF0F8",
            "showbackground": true,
            "ticks": "",
            "zerolinecolor": "#EBF0F8"
           },
           "yaxis": {
            "backgroundcolor": "white",
            "gridcolor": "#DFE8F3",
            "gridwidth": 2,
            "linecolor": "#EBF0F8",
            "showbackground": true,
            "ticks": "",
            "zerolinecolor": "#EBF0F8"
           },
           "zaxis": {
            "backgroundcolor": "white",
            "gridcolor": "#DFE8F3",
            "gridwidth": 2,
            "linecolor": "#EBF0F8",
            "showbackground": true,
            "ticks": "",
            "zerolinecolor": "#EBF0F8"
           }
          },
          "shapedefaults": {
           "line": {
            "color": "#2a3f5f"
           }
          },
          "ternary": {
           "aaxis": {
            "gridcolor": "#DFE8F3",
            "linecolor": "#A2B1C6",
            "ticks": ""
           },
           "baxis": {
            "gridcolor": "#DFE8F3",
            "linecolor": "#A2B1C6",
            "ticks": ""
           },
           "bgcolor": "white",
           "caxis": {
            "gridcolor": "#DFE8F3",
            "linecolor": "#A2B1C6",
            "ticks": ""
           }
          },
          "title": {
           "x": 0.05
          },
          "xaxis": {
           "automargin": true,
           "gridcolor": "#EBF0F8",
           "linecolor": "#EBF0F8",
           "ticks": "",
           "title": {
            "standoff": 15
           },
           "zerolinecolor": "#EBF0F8",
           "zerolinewidth": 2
          },
          "yaxis": {
           "automargin": true,
           "gridcolor": "#EBF0F8",
           "linecolor": "#EBF0F8",
           "ticks": "",
           "title": {
            "standoff": 15
           },
           "zerolinecolor": "#EBF0F8",
           "zerolinewidth": 2
          }
         }
        },
        "title": {
         "text": "Cumulative energy performance"
        },
        "xaxis": {
         "title": {
          "font": {
           "color": "#7f7f7f"
          },
          "text": ""
         }
        },
        "yaxis": {
         "title": {
          "font": {
           "color": "#7f7f7f"
          },
          "text": "Cumulative energy [kWh]"
         }
        }
       }
      }
     },
     "metadata": {}
    }
   ],
   "metadata": {}
  },
  {
   "cell_type": "code",
   "execution_count": 81,
   "source": [
    "no_of_days = len(df_rp.index)\r\n",
    "additional_energy = df_rp[\"CUSUM\"].tail(1).values[0]\r\n",
    "additional_energy_per_day = additional_energy / no_of_days\r\n",
    "print(additional_energy_per_day)"
   ],
   "outputs": [
    {
     "output_type": "stream",
     "name": "stdout",
     "text": [
      "6.869477888165554\n"
     ]
    }
   ],
   "metadata": {}
  },
  {
   "cell_type": "code",
   "execution_count": 82,
   "source": [
    "print(f\"Additional energy is {additional_energy_per_day:0.2f} kWh per day\")\r\n",
    "print(f\"Over a year, that equates to {additional_energy_per_day*365:0.0f} kWh per annum\")\r\n",
    "print(f\"That is approximately a reduction of {additional_energy_per_day*365*1.04:0.0f} kg CO2e and saving R {additional_energy_per_day*365*1.80:0.0f} per annum\")"
   ],
   "outputs": [
    {
     "output_type": "stream",
     "name": "stdout",
     "text": [
      "Additional energy is 6.87 kWh per day\n",
      "Over a year, that equates to 2507 kWh per annum\n",
      "That is approximately a reduction of 2608 kg CO2e and saving R 4513 per annum\n"
     ]
    }
   ],
   "metadata": {}
  },
  {
   "cell_type": "markdown",
   "source": [
    "- The results from the energy model is just below 50% of the average estimates using in the EDA notebook.\r\n",
    "- Thus, using proper models to estimate savings and adjusting for the various factors is important to ensure savings are realistic to motivate for interventions.\r\n",
    "- Another important note is that we have a few months of data only and don't cover all the seasonal variations and thus the baseline may not be representative."
   ],
   "metadata": {}
  },
  {
   "cell_type": "markdown",
   "source": [],
   "metadata": {}
  }
 ],
 "metadata": {
  "orig_nbformat": 4,
  "language_info": {
   "name": "python",
   "version": "3.8.7",
   "mimetype": "text/x-python",
   "codemirror_mode": {
    "name": "ipython",
    "version": 3
   },
   "pygments_lexer": "ipython3",
   "nbconvert_exporter": "python",
   "file_extension": ".py"
  },
  "kernelspec": {
   "name": "python3",
   "display_name": "Python 3.8.7 64-bit ('project04-qxpK7Mej': pipenv)"
  },
  "interpreter": {
   "hash": "acb383213824f3b0082df090227488a6f666fdac1c205be069573f23ae1ca0c8"
  }
 },
 "nbformat": 4,
 "nbformat_minor": 2
}